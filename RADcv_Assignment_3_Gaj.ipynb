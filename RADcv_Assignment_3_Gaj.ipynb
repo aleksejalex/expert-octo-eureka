{
  "nbformat": 4,
  "nbformat_minor": 0,
  "metadata": {
    "colab": {
      "provenance": [],
      "include_colab_link": true
    },
    "kernelspec": {
      "name": "python3",
      "display_name": "Python 3"
    },
    "language_info": {
      "name": "python"
    },
    "gpuClass": "standard"
  },
  "cells": [
    {
      "cell_type": "markdown",
      "metadata": {
        "id": "view-in-github",
        "colab_type": "text"
      },
      "source": [
        "<a href=\"https://colab.research.google.com/github/aleksejalex/expert-octo-eureka/blob/main/RADcv_Assignment_3_Gaj.ipynb\" target=\"_parent\"><img src=\"https://colab.research.google.com/assets/colab-badge.svg\" alt=\"Open In Colab\"/></a>"
      ]
    },
    {
      "cell_type": "markdown",
      "metadata": {
        "id": "ad8e29b1"
      },
      "source": [
        "# 3. zápočtová úloha z 01RAD\n",
        "\n",
        "## Popis úlohy\n",
        "\n",
        "Datový soubor vychází z datasetu \\texttt{House Sales in King County, USA}, který je k nalezení například na kaggle.com, nebo v knihovně \\texttt{library(moderndive)} data \\texttt{house\\_prices}.\n",
        "Původní dataset obsahuje prodejní ceny domů v oblasti King County, která obsahuje i město Seattle, a data byla nasbírána mezi květnem 2014 a květnem 2015. Pro naše potřeby bylo z datasetu vypuštěno jak několik proměnných, také byl dataset výrazně osekán a lehce modifikován.\n",
        "\n",
        "Dále byl dataset již dopředu rozdělen na tři části, které všechny postupně v rámci 3. zápočtové úlohy využijete.\n"
      ]
    },
    {
      "cell_type": "code",
      "execution_count": null,
      "metadata": {
        "lines_to_next_cell": 0,
        "tags": [
          "remove_input",
          "remove_cell"
        ],
        "id": "6c202f5f"
      },
      "outputs": [],
      "source": [
        "#library(tidyverse)"
      ]
    },
    {
      "cell_type": "code",
      "execution_count": null,
      "metadata": {
        "tags": [
          "remove_input"
        ],
        "id": "09d4b6a7"
      },
      "outputs": [],
      "source": [
        "#house_rad <- read.table(\"https://raw.githubusercontent.com/francji1/01RAD/main/data/01RAD2022_house.csv\",header=TRUE,sep=\",\")\n",
        "#head(house_rad)"
      ]
    },
    {
      "cell_type": "markdown",
      "metadata": {
        "id": "59da5591"
      },
      "source": [
        "Data celkem obsahují  následujících 18 proměnných, přičemž naším cílem je prozkoumat vliv 12 z nich na cenu nemovitostí   * price}. Přičemž anglický popis jednotlivých proměnných (sloupců) je následující:\n",
        "\n",
        "Feature & Description\n",
        " \n",
        "  * id  : Our notation for a house  \n",
        " \n",
        "  * price  : Price is prediction target  \n",
        " \n",
        "  * bedrooms  : Number of Bedrooms/House  \n",
        " \n",
        "  * bathrooms  : Number of Bathrooms/Bedrooms  \n",
        " \n",
        "  * sqft\\_living  : Square footage of the home  \n",
        " \n",
        "  * sqft\\_lot  : Square footage of the lot   \n",
        " \n",
        "  * floors  :  Total floors (levels) in house \n",
        " \n",
        "  * waterfront  : House which has a view to a waterfront   \n",
        " \n",
        "  * view  : Has been viewed  \n",
        " \n",
        "  * condition  : How good the condition is Overall  \n",
        " \n",
        "  * grade  : Overall grade given to the housing unit \n",
        " \n",
        "  * sqft\\_above  : Square footage of house apart from basement   \n",
        " \n",
        "  * sqft\\_basement  : Square footage of the basement   \n",
        " \n",
        "  * yr\\_built  : Built Year   \n",
        " \n",
        "  * yr\\_renovated  : Year when house was renovated  \n",
        " \n",
        "  * sqft\\_living15  : Living room area in 2015 (implies– some renovations) \n",
        " \n",
        "  * sqft\\_lot15  : lotSize area in 2015 (implies– some renovations)  \n",
        " \n",
        "  * split  : Splitting variable with train, test and validation sample  \n"
      ]
    },
    {
      "cell_type": "markdown",
      "metadata": {
        "id": "0fec6286"
      },
      "source": [
        "## Podmínky a body\n",
        "\n",
        "Úkol i protokol vypracujte samostatně. Pokud na řešení nějaké úlohy budete přesto s někým spolupracovat, radit se, nezapomeňte to u odpovědi na danou otázku uvést. Tato zápočtová úloha obsahuje 10 otázek po 1 bodu. Celkem za 3 zápočtové úlohy bude možné získat 30 bodů, přičemž pro získání zápočtu je potřeba 20. Další dodatečné body mohu případně individuálně udělit za řešení mini domácích úkolů z jednotlivých hodin.\n",
        "\n",
        "## Odevzdání\n",
        "\n",
        "Protokol ve formátu pdf (včetně příslušného Rmd souboru) odevzdejte prostřednictvím MS Teams, nejpozději do 12:00 dne 5. 1. 2023.\n"
      ]
    },
    {
      "cell_type": "code",
      "source": [
        "# importy balicku\n",
        "import inspect\n",
        "import numpy as np\n",
        "import pandas as pd\n",
        "import seaborn as sbn\n",
        "import csv\n",
        "import matplotlib as mpt\n",
        "import statsmodels.formula.api as sm\n",
        "from matplotlib import pyplot as plt\n",
        "\n",
        "\n",
        "\n",
        "def retrieve_name(var):\n",
        "    \"vrati nazev promenne jako string\"\n",
        "    callers_local_vars = inspect.currentframe().f_back.f_locals.items()\n",
        "    return [var_name for var_name, var_val in callers_local_vars if var_val is var]\n",
        "\n",
        "examplevarr = 4\n",
        "print(examplevarr)\n",
        "print(retrieve_name(examplevarr))\n",
        "\n",
        "def gauss(x, mi, sigma2):\n",
        "    \"hustota normalniho rozdeleni. x je bud cislo nebo np.array\"\n",
        "    return (1/(np.sqrt(2*np.pi*sigma2)) * np.exp (-  ( (x-mi)**2 ) / (2*sigma2) ) )\n"
      ],
      "metadata": {
        "colab": {
          "base_uri": "https://localhost:8080/"
        },
        "id": "iZV5Gwn3dHhG",
        "outputId": "168dba32-2ea1-4cf0-f90b-d30891cbf02e"
      },
      "execution_count": 1,
      "outputs": [
        {
          "output_type": "stream",
          "name": "stdout",
          "text": [
            "4\n",
            "['examplevarr']\n"
          ]
        }
      ]
    },
    {
      "cell_type": "code",
      "source": [
        "# additional settings for plotting images:\n",
        "plt.rcParams.update({\"figure.dpi\": 130})   # increase DPI, default = 96\n",
        "#%config InlineBackend.figure_format = \"svg\"  # every plot (matplotlib's or seaborn's) must be a SVG image"
      ],
      "metadata": {
        "id": "oKt7AKlVdIoB"
      },
      "execution_count": 2,
      "outputs": []
    },
    {
      "cell_type": "code",
      "source": [
        "# import datasetu (pomoci Pandas)\n",
        "# (puvodne dataset byl stazen z >>    )\n",
        "url = \"https://raw.githubusercontent.com/francji1/01RAD/main/data/01RAD2022_house.csv\"\n",
        "imported_data = pd.read_csv(url)\n",
        "\n",
        "imported_data\n",
        "#data.info"
      ],
      "metadata": {
        "colab": {
          "base_uri": "https://localhost:8080/",
          "height": 424
        },
        "id": "2HFdGVlidK-X",
        "outputId": "625179ed-2023-4ee0-d2e2-5b340553196e"
      },
      "execution_count": 3,
      "outputs": [
        {
          "output_type": "execute_result",
          "data": {
            "text/plain": [
              "      Unnamed: 0    id      price  bedrooms  bathrooms  sqft_living  sqft_lot  \\\n",
              "0              1     1  2395000.0         4       3.25         3800     19798   \n",
              "1              2     2   679000.0         3       2.50         2770      9350   \n",
              "2              3     3   664000.0         2       1.75         1720      5785   \n",
              "3              4     4   915000.0         5       2.50         2750      5589   \n",
              "4              5     5   450000.0         5       2.50         2850    209523   \n",
              "...          ...   ...        ...       ...        ...          ...       ...   \n",
              "1995        1996  1996   512031.0         3       1.75         1540      3000   \n",
              "1996        1997  1997   270000.0         4       2.50         1660      8063   \n",
              "1997        1998  1998   875000.0         3       2.50         1690     10592   \n",
              "1998        1999  1999   415000.0         2       1.00          880      4558   \n",
              "1999        2000  2000   645000.0         3       1.75         2270     11472   \n",
              "\n",
              "      floors  waterfront  view  condition  grade  sqft_above  sqft_basement  \\\n",
              "0        2.0           0     0          3     10        3800              0   \n",
              "1        2.0           0     3          3      8        2770              0   \n",
              "2        1.0           0     0          3      6         860            860   \n",
              "3        1.5           0     0          5      9        1840            910   \n",
              "4        1.0           0     0          4      7        1930            920   \n",
              "...      ...         ...   ...        ...    ...         ...            ...   \n",
              "1995     1.0           0     2          3      7         770            770   \n",
              "1996     1.0           0     0          4      7        1660              0   \n",
              "1997     1.0           0     0          3      8        1690              0   \n",
              "1998     1.0           0     0          3      7         880              0   \n",
              "1999     1.0           0     0          4      7        1370            900   \n",
              "\n",
              "      yr_built  yr_renovated  sqft_living15  sqft_lot15       split  \n",
              "0         1969          2009           3940       18975       train  \n",
              "1         1957          2000           2660        9695       train  \n",
              "2         1948          2002           1680        5184       train  \n",
              "3         1910             0           1460        4250       train  \n",
              "4         1925          1968           2220      209523       train  \n",
              "...        ...           ...            ...         ...         ...  \n",
              "1995      1920             0           1420        4200  validation  \n",
              "1996      1978             0           1060        8437  validation  \n",
              "1997      1973          2009           2260        9945  validation  \n",
              "1998      1951             0           1370        5243  validation  \n",
              "1999      1956             0           2270        8340  validation  \n",
              "\n",
              "[2000 rows x 19 columns]"
            ],
            "text/html": [
              "\n",
              "  <div id=\"df-05790c8f-4f5c-4f4a-beff-c72f47bcbe42\">\n",
              "    <div class=\"colab-df-container\">\n",
              "      <div>\n",
              "<style scoped>\n",
              "    .dataframe tbody tr th:only-of-type {\n",
              "        vertical-align: middle;\n",
              "    }\n",
              "\n",
              "    .dataframe tbody tr th {\n",
              "        vertical-align: top;\n",
              "    }\n",
              "\n",
              "    .dataframe thead th {\n",
              "        text-align: right;\n",
              "    }\n",
              "</style>\n",
              "<table border=\"1\" class=\"dataframe\">\n",
              "  <thead>\n",
              "    <tr style=\"text-align: right;\">\n",
              "      <th></th>\n",
              "      <th>Unnamed: 0</th>\n",
              "      <th>id</th>\n",
              "      <th>price</th>\n",
              "      <th>bedrooms</th>\n",
              "      <th>bathrooms</th>\n",
              "      <th>sqft_living</th>\n",
              "      <th>sqft_lot</th>\n",
              "      <th>floors</th>\n",
              "      <th>waterfront</th>\n",
              "      <th>view</th>\n",
              "      <th>condition</th>\n",
              "      <th>grade</th>\n",
              "      <th>sqft_above</th>\n",
              "      <th>sqft_basement</th>\n",
              "      <th>yr_built</th>\n",
              "      <th>yr_renovated</th>\n",
              "      <th>sqft_living15</th>\n",
              "      <th>sqft_lot15</th>\n",
              "      <th>split</th>\n",
              "    </tr>\n",
              "  </thead>\n",
              "  <tbody>\n",
              "    <tr>\n",
              "      <th>0</th>\n",
              "      <td>1</td>\n",
              "      <td>1</td>\n",
              "      <td>2395000.0</td>\n",
              "      <td>4</td>\n",
              "      <td>3.25</td>\n",
              "      <td>3800</td>\n",
              "      <td>19798</td>\n",
              "      <td>2.0</td>\n",
              "      <td>0</td>\n",
              "      <td>0</td>\n",
              "      <td>3</td>\n",
              "      <td>10</td>\n",
              "      <td>3800</td>\n",
              "      <td>0</td>\n",
              "      <td>1969</td>\n",
              "      <td>2009</td>\n",
              "      <td>3940</td>\n",
              "      <td>18975</td>\n",
              "      <td>train</td>\n",
              "    </tr>\n",
              "    <tr>\n",
              "      <th>1</th>\n",
              "      <td>2</td>\n",
              "      <td>2</td>\n",
              "      <td>679000.0</td>\n",
              "      <td>3</td>\n",
              "      <td>2.50</td>\n",
              "      <td>2770</td>\n",
              "      <td>9350</td>\n",
              "      <td>2.0</td>\n",
              "      <td>0</td>\n",
              "      <td>3</td>\n",
              "      <td>3</td>\n",
              "      <td>8</td>\n",
              "      <td>2770</td>\n",
              "      <td>0</td>\n",
              "      <td>1957</td>\n",
              "      <td>2000</td>\n",
              "      <td>2660</td>\n",
              "      <td>9695</td>\n",
              "      <td>train</td>\n",
              "    </tr>\n",
              "    <tr>\n",
              "      <th>2</th>\n",
              "      <td>3</td>\n",
              "      <td>3</td>\n",
              "      <td>664000.0</td>\n",
              "      <td>2</td>\n",
              "      <td>1.75</td>\n",
              "      <td>1720</td>\n",
              "      <td>5785</td>\n",
              "      <td>1.0</td>\n",
              "      <td>0</td>\n",
              "      <td>0</td>\n",
              "      <td>3</td>\n",
              "      <td>6</td>\n",
              "      <td>860</td>\n",
              "      <td>860</td>\n",
              "      <td>1948</td>\n",
              "      <td>2002</td>\n",
              "      <td>1680</td>\n",
              "      <td>5184</td>\n",
              "      <td>train</td>\n",
              "    </tr>\n",
              "    <tr>\n",
              "      <th>3</th>\n",
              "      <td>4</td>\n",
              "      <td>4</td>\n",
              "      <td>915000.0</td>\n",
              "      <td>5</td>\n",
              "      <td>2.50</td>\n",
              "      <td>2750</td>\n",
              "      <td>5589</td>\n",
              "      <td>1.5</td>\n",
              "      <td>0</td>\n",
              "      <td>0</td>\n",
              "      <td>5</td>\n",
              "      <td>9</td>\n",
              "      <td>1840</td>\n",
              "      <td>910</td>\n",
              "      <td>1910</td>\n",
              "      <td>0</td>\n",
              "      <td>1460</td>\n",
              "      <td>4250</td>\n",
              "      <td>train</td>\n",
              "    </tr>\n",
              "    <tr>\n",
              "      <th>4</th>\n",
              "      <td>5</td>\n",
              "      <td>5</td>\n",
              "      <td>450000.0</td>\n",
              "      <td>5</td>\n",
              "      <td>2.50</td>\n",
              "      <td>2850</td>\n",
              "      <td>209523</td>\n",
              "      <td>1.0</td>\n",
              "      <td>0</td>\n",
              "      <td>0</td>\n",
              "      <td>4</td>\n",
              "      <td>7</td>\n",
              "      <td>1930</td>\n",
              "      <td>920</td>\n",
              "      <td>1925</td>\n",
              "      <td>1968</td>\n",
              "      <td>2220</td>\n",
              "      <td>209523</td>\n",
              "      <td>train</td>\n",
              "    </tr>\n",
              "    <tr>\n",
              "      <th>...</th>\n",
              "      <td>...</td>\n",
              "      <td>...</td>\n",
              "      <td>...</td>\n",
              "      <td>...</td>\n",
              "      <td>...</td>\n",
              "      <td>...</td>\n",
              "      <td>...</td>\n",
              "      <td>...</td>\n",
              "      <td>...</td>\n",
              "      <td>...</td>\n",
              "      <td>...</td>\n",
              "      <td>...</td>\n",
              "      <td>...</td>\n",
              "      <td>...</td>\n",
              "      <td>...</td>\n",
              "      <td>...</td>\n",
              "      <td>...</td>\n",
              "      <td>...</td>\n",
              "      <td>...</td>\n",
              "    </tr>\n",
              "    <tr>\n",
              "      <th>1995</th>\n",
              "      <td>1996</td>\n",
              "      <td>1996</td>\n",
              "      <td>512031.0</td>\n",
              "      <td>3</td>\n",
              "      <td>1.75</td>\n",
              "      <td>1540</td>\n",
              "      <td>3000</td>\n",
              "      <td>1.0</td>\n",
              "      <td>0</td>\n",
              "      <td>2</td>\n",
              "      <td>3</td>\n",
              "      <td>7</td>\n",
              "      <td>770</td>\n",
              "      <td>770</td>\n",
              "      <td>1920</td>\n",
              "      <td>0</td>\n",
              "      <td>1420</td>\n",
              "      <td>4200</td>\n",
              "      <td>validation</td>\n",
              "    </tr>\n",
              "    <tr>\n",
              "      <th>1996</th>\n",
              "      <td>1997</td>\n",
              "      <td>1997</td>\n",
              "      <td>270000.0</td>\n",
              "      <td>4</td>\n",
              "      <td>2.50</td>\n",
              "      <td>1660</td>\n",
              "      <td>8063</td>\n",
              "      <td>1.0</td>\n",
              "      <td>0</td>\n",
              "      <td>0</td>\n",
              "      <td>4</td>\n",
              "      <td>7</td>\n",
              "      <td>1660</td>\n",
              "      <td>0</td>\n",
              "      <td>1978</td>\n",
              "      <td>0</td>\n",
              "      <td>1060</td>\n",
              "      <td>8437</td>\n",
              "      <td>validation</td>\n",
              "    </tr>\n",
              "    <tr>\n",
              "      <th>1997</th>\n",
              "      <td>1998</td>\n",
              "      <td>1998</td>\n",
              "      <td>875000.0</td>\n",
              "      <td>3</td>\n",
              "      <td>2.50</td>\n",
              "      <td>1690</td>\n",
              "      <td>10592</td>\n",
              "      <td>1.0</td>\n",
              "      <td>0</td>\n",
              "      <td>0</td>\n",
              "      <td>3</td>\n",
              "      <td>8</td>\n",
              "      <td>1690</td>\n",
              "      <td>0</td>\n",
              "      <td>1973</td>\n",
              "      <td>2009</td>\n",
              "      <td>2260</td>\n",
              "      <td>9945</td>\n",
              "      <td>validation</td>\n",
              "    </tr>\n",
              "    <tr>\n",
              "      <th>1998</th>\n",
              "      <td>1999</td>\n",
              "      <td>1999</td>\n",
              "      <td>415000.0</td>\n",
              "      <td>2</td>\n",
              "      <td>1.00</td>\n",
              "      <td>880</td>\n",
              "      <td>4558</td>\n",
              "      <td>1.0</td>\n",
              "      <td>0</td>\n",
              "      <td>0</td>\n",
              "      <td>3</td>\n",
              "      <td>7</td>\n",
              "      <td>880</td>\n",
              "      <td>0</td>\n",
              "      <td>1951</td>\n",
              "      <td>0</td>\n",
              "      <td>1370</td>\n",
              "      <td>5243</td>\n",
              "      <td>validation</td>\n",
              "    </tr>\n",
              "    <tr>\n",
              "      <th>1999</th>\n",
              "      <td>2000</td>\n",
              "      <td>2000</td>\n",
              "      <td>645000.0</td>\n",
              "      <td>3</td>\n",
              "      <td>1.75</td>\n",
              "      <td>2270</td>\n",
              "      <td>11472</td>\n",
              "      <td>1.0</td>\n",
              "      <td>0</td>\n",
              "      <td>0</td>\n",
              "      <td>4</td>\n",
              "      <td>7</td>\n",
              "      <td>1370</td>\n",
              "      <td>900</td>\n",
              "      <td>1956</td>\n",
              "      <td>0</td>\n",
              "      <td>2270</td>\n",
              "      <td>8340</td>\n",
              "      <td>validation</td>\n",
              "    </tr>\n",
              "  </tbody>\n",
              "</table>\n",
              "<p>2000 rows × 19 columns</p>\n",
              "</div>\n",
              "      <button class=\"colab-df-convert\" onclick=\"convertToInteractive('df-05790c8f-4f5c-4f4a-beff-c72f47bcbe42')\"\n",
              "              title=\"Convert this dataframe to an interactive table.\"\n",
              "              style=\"display:none;\">\n",
              "        \n",
              "  <svg xmlns=\"http://www.w3.org/2000/svg\" height=\"24px\"viewBox=\"0 0 24 24\"\n",
              "       width=\"24px\">\n",
              "    <path d=\"M0 0h24v24H0V0z\" fill=\"none\"/>\n",
              "    <path d=\"M18.56 5.44l.94 2.06.94-2.06 2.06-.94-2.06-.94-.94-2.06-.94 2.06-2.06.94zm-11 1L8.5 8.5l.94-2.06 2.06-.94-2.06-.94L8.5 2.5l-.94 2.06-2.06.94zm10 10l.94 2.06.94-2.06 2.06-.94-2.06-.94-.94-2.06-.94 2.06-2.06.94z\"/><path d=\"M17.41 7.96l-1.37-1.37c-.4-.4-.92-.59-1.43-.59-.52 0-1.04.2-1.43.59L10.3 9.45l-7.72 7.72c-.78.78-.78 2.05 0 2.83L4 21.41c.39.39.9.59 1.41.59.51 0 1.02-.2 1.41-.59l7.78-7.78 2.81-2.81c.8-.78.8-2.07 0-2.86zM5.41 20L4 18.59l7.72-7.72 1.47 1.35L5.41 20z\"/>\n",
              "  </svg>\n",
              "      </button>\n",
              "      \n",
              "  <style>\n",
              "    .colab-df-container {\n",
              "      display:flex;\n",
              "      flex-wrap:wrap;\n",
              "      gap: 12px;\n",
              "    }\n",
              "\n",
              "    .colab-df-convert {\n",
              "      background-color: #E8F0FE;\n",
              "      border: none;\n",
              "      border-radius: 50%;\n",
              "      cursor: pointer;\n",
              "      display: none;\n",
              "      fill: #1967D2;\n",
              "      height: 32px;\n",
              "      padding: 0 0 0 0;\n",
              "      width: 32px;\n",
              "    }\n",
              "\n",
              "    .colab-df-convert:hover {\n",
              "      background-color: #E2EBFA;\n",
              "      box-shadow: 0px 1px 2px rgba(60, 64, 67, 0.3), 0px 1px 3px 1px rgba(60, 64, 67, 0.15);\n",
              "      fill: #174EA6;\n",
              "    }\n",
              "\n",
              "    [theme=dark] .colab-df-convert {\n",
              "      background-color: #3B4455;\n",
              "      fill: #D2E3FC;\n",
              "    }\n",
              "\n",
              "    [theme=dark] .colab-df-convert:hover {\n",
              "      background-color: #434B5C;\n",
              "      box-shadow: 0px 1px 3px 1px rgba(0, 0, 0, 0.15);\n",
              "      filter: drop-shadow(0px 1px 2px rgba(0, 0, 0, 0.3));\n",
              "      fill: #FFFFFF;\n",
              "    }\n",
              "  </style>\n",
              "\n",
              "      <script>\n",
              "        const buttonEl =\n",
              "          document.querySelector('#df-05790c8f-4f5c-4f4a-beff-c72f47bcbe42 button.colab-df-convert');\n",
              "        buttonEl.style.display =\n",
              "          google.colab.kernel.accessAllowed ? 'block' : 'none';\n",
              "\n",
              "        async function convertToInteractive(key) {\n",
              "          const element = document.querySelector('#df-05790c8f-4f5c-4f4a-beff-c72f47bcbe42');\n",
              "          const dataTable =\n",
              "            await google.colab.kernel.invokeFunction('convertToInteractive',\n",
              "                                                     [key], {});\n",
              "          if (!dataTable) return;\n",
              "\n",
              "          const docLinkHtml = 'Like what you see? Visit the ' +\n",
              "            '<a target=\"_blank\" href=https://colab.research.google.com/notebooks/data_table.ipynb>data table notebook</a>'\n",
              "            + ' to learn more about interactive tables.';\n",
              "          element.innerHTML = '';\n",
              "          dataTable['output_type'] = 'display_data';\n",
              "          await google.colab.output.renderOutput(dataTable, element);\n",
              "          const docLink = document.createElement('div');\n",
              "          docLink.innerHTML = docLinkHtml;\n",
              "          element.appendChild(docLink);\n",
              "        }\n",
              "      </script>\n",
              "    </div>\n",
              "  </div>\n",
              "  "
            ]
          },
          "metadata": {},
          "execution_count": 3
        }
      ]
    },
    {
      "cell_type": "markdown",
      "metadata": {
        "id": "346e75c7"
      },
      "source": [
        "## Průzkumová a grafická část:\n",
        "\n",
        "* Otázka 01\n",
        "\n",
        "  Ověřte rozměry datového souboru, typy jednotlivých proměnných,  a shrňte základní popisné charakteristiky všech proměnných. Vykreslete histogram a odhad hustoty pro odezvu   * price}, dá se z toho již něco odvozovat pro budoucí analýzu?\n",
        "  \n",
        "  \\"
      ]
    },
    {
      "cell_type": "code",
      "source": [],
      "metadata": {
        "id": "yLe9rZj1cuYV"
      },
      "execution_count": null,
      "outputs": []
    },
    {
      "cell_type": "code",
      "execution_count": 2,
      "metadata": {
        "tags": [
          "remove_input"
        ],
        "id": "b74945be",
        "colab": {
          "base_uri": "https://localhost:8080/"
        },
        "outputId": "9654c9ee-6445-43be-a778-6b363bbd6dfb"
      },
      "outputs": [
        {
          "output_type": "stream",
          "name": "stdout",
          "text": [
            "3.141592653589793\n"
          ]
        }
      ],
      "source": [
        "import numpy as np\n",
        "import scipy as scp\n",
        "\n",
        "print(scp.pi)"
      ]
    },
    {
      "cell_type": "markdown",
      "metadata": {
        "id": "6c6ae020"
      },
      "source": [
        "* Otázka 02\n",
        "\n",
        "  Jsou všechny proměnné použitelné pro analýzu a predikci ceny nemovitostí? Pokud data obsahují chybějící hodnoty, (případně nesmyslné hodnoty), lze je nějak nahradit (upravit), nebo musíme data odstranit?\n",
        "  \n",
        "  \\"
      ]
    },
    {
      "cell_type": "code",
      "execution_count": null,
      "metadata": {
        "lines_to_next_cell": 2,
        "tags": [
          "remove_input"
        ],
        "id": "73cbb840"
      },
      "outputs": [],
      "source": [
        "\n"
      ]
    },
    {
      "cell_type": "markdown",
      "metadata": {
        "id": "badc2ac6"
      },
      "source": [
        "* Otázka 03\n",
        " \n",
        "  Zkontrolujte pro 4 vybranné proměnné (price, sqft_living, grade, yr_built) bylo-li rozdělení datasetu pomocí proměnné split náhodné. Tj mají zmíněné proměnné ve skupinách train, test a validation přibližně stejné rozdělení?\n",
        "\n",
        "\\"
      ]
    },
    {
      "cell_type": "code",
      "execution_count": null,
      "metadata": {
        "tags": [
          "remove_input"
        ],
        "id": "6291ee6c"
      },
      "outputs": [],
      "source": [
        "\n"
      ]
    },
    {
      "cell_type": "markdown",
      "metadata": {
        "id": "6f7aa0f2"
      },
      "source": [
        "## Lineární model (použijte pouze trénovací data, tj. split == \"train\"):\n",
        "\n",
        "* Otázka 04\n",
        "\n",
        "  Spočtěte korelace mezi jednotlivými regressory a graficky je znázorněte. Dále spočtěte číso podmmíněnosti matice regresorů Kappa a VIF. Pokud se v datech vyskytuje znatelná multicollinearita, rozhodněte jaké proměnné a proč použijete v následném linárním modelu.\n"
      ]
    },
    {
      "cell_type": "code",
      "execution_count": null,
      "metadata": {
        "tags": [
          "remove_input"
        ],
        "id": "dab0f5d8"
      },
      "outputs": [],
      "source": [
        "\n"
      ]
    },
    {
      "cell_type": "markdown",
      "metadata": {
        "id": "4eb00e63"
      },
      "source": [
        "* Otázka 05\n",
        "    \n",
        "  Pouze pomocí trénovacích dat (tj., split == \"train\") a všech vybranných proměnných najděte vhodný lineární regresní model, který má za úkol predikovat co nejlépe cenu, tj. minimalizovat střední kvadratickou chybu (MSE). U výsledného modelu porovnejte VIF a Kappa s původní celkovou maticí regresorů.\n",
        "  \n",
        "\n"
      ]
    },
    {
      "cell_type": "code",
      "execution_count": null,
      "metadata": {
        "tags": [
          "remove_input"
        ],
        "id": "aafd1be4"
      },
      "outputs": [],
      "source": [
        "\n"
      ]
    },
    {
      "cell_type": "markdown",
      "metadata": {
        "id": "17831933"
      },
      "source": [
        "* Otázka 06\n",
        "\n",
        "   Pro Vámi vybraný model z předešlé otázky spočtěte příslušné infulenční míry. Uveďtě id pro 20 pozorování s největší hodnotou DIFF, největší hodnotou leverage (hatvalues) a největší hodnotou Cookovy vzdálenosti. (tj, 3 krát 20 hodnot). Jaká pozorování považujete za vlivná a odlehlá pozorování.\n"
      ]
    },
    {
      "cell_type": "code",
      "execution_count": null,
      "metadata": {
        "tags": [
          "remove_input"
        ],
        "id": "f51b0636"
      },
      "outputs": [],
      "source": [
        "\n"
      ]
    },
    {
      "cell_type": "markdown",
      "metadata": {
        "id": "d147919d"
      },
      "source": [
        "* Otázka 07\n",
        "\n",
        "  Validujte model pomocí grafického znázornění reziduí (Residual vs Fitted, QQ-plot, Cookova vzdálenost, Leverages, ...).\n",
        "  Identifikovali jste na základě této a předchozí otázky v datech nějaká podezřelá pozorování, která mohla vzniknout při úpravě (přepisu) datasetu? Doporučili byste tato pozorování z dat odstranit?"
      ]
    },
    {
      "cell_type": "code",
      "execution_count": null,
      "metadata": {
        "tags": [
          "remove_input"
        ],
        "id": "92d9b0c7"
      },
      "outputs": [],
      "source": [
        "\n"
      ]
    },
    {
      "cell_type": "markdown",
      "metadata": {
        "id": "2fe8b372"
      },
      "source": [
        "## Train, test, validation ...:  (možno vynechat pokud si jste jisti počtem bodů na zápočet)"
      ]
    },
    {
      "cell_type": "markdown",
      "metadata": {
        "id": "d54e707f"
      },
      "source": [
        "* Otázka 08\n",
        "\n",
        "  Pokud jste se rozhodli z dat odstranit nějaká pozorování, tak dále pracujtes s vyfiltrovaným datasetem a přetrénujte model z otázky 5. A spočtěte pro tento model $R^2$ statistiku a MSE jak na trénovacích tak testovacích datech (split == \"test\"). "
      ]
    },
    {
      "cell_type": "code",
      "execution_count": null,
      "metadata": {
        "tags": [
          "remove_input"
        ],
        "id": "c0f0d6a9"
      },
      "outputs": [],
      "source": [
        "\n"
      ]
    },
    {
      "cell_type": "markdown",
      "metadata": {
        "id": "73eb7dbf"
      },
      "source": [
        "* Otázka 09\n",
        "\n",
        "  Pomocí hřebenové regrese (případně pomocí LASSO a Elastic Net) zkuste najít nejlepší hyperparametr(y) tak, aby výsledný model měl co nejmenší MSE na testovacích datech.  "
      ]
    },
    {
      "cell_type": "code",
      "execution_count": null,
      "metadata": {
        "tags": [
          "remove_input"
        ],
        "id": "de25371b"
      },
      "outputs": [],
      "source": [
        "\n"
      ]
    },
    {
      "cell_type": "markdown",
      "metadata": {
        "id": "8c6a9b6f"
      },
      "source": [
        "* Otázka 10\n",
        "\n",
        "  Vyberte výsledný model a porovnejte MSE a $R^2$ na trénovacích, testovacích a validačních datech. Co z těchto hodnot usuzujete o kvalitě modelu a případném přetrénování? Je váš model vhodný pro predikci cen nemovitostí v okolí King County? Pokud ano, má tato predikce nějaká omezeni?"
      ]
    },
    {
      "cell_type": "code",
      "execution_count": null,
      "metadata": {
        "tags": [
          "remove_input"
        ],
        "id": "a1303b56"
      },
      "outputs": [],
      "source": [
        "\n"
      ]
    }
  ]
}