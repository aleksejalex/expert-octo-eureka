{
  "nbformat": 4,
  "nbformat_minor": 0,
  "metadata": {
    "colab": {
      "private_outputs": true,
      "provenance": [],
      "authorship_tag": "ABX9TyPSwJc866+ZMCd5ML9LBfNr",
      "include_colab_link": true
    },
    "kernelspec": {
      "name": "python3",
      "display_name": "Python 3"
    },
    "language_info": {
      "name": "python"
    }
  },
  "cells": [
    {
      "cell_type": "markdown",
      "metadata": {
        "id": "view-in-github",
        "colab_type": "text"
      },
      "source": [
        "<a href=\"https://colab.research.google.com/github/aleksejalex/expert-octo-eureka/blob/main/RAD_HW_01_trees_in_Python.ipynb\" target=\"_parent\"><img src=\"https://colab.research.google.com/assets/colab-badge.svg\" alt=\"Open In Colab\"/></a>"
      ]
    },
    {
      "cell_type": "markdown",
      "source": [
        "# **Homework RAD 01** \"trees\" \n",
        "by Aleksej Gaj\n",
        "\n",
        "description goes here...."
      ],
      "metadata": {
        "id": "4fg235HMGEVq"
      }
    },
    {
      "cell_type": "markdown",
      "source": [
        "Zadani (copied from >>  https://colab.research.google.com/github/francji1/01RAD/blob/main/HW/01RAD_Ex01_HW.ipynb#scrollTo=OstVgL8Y3Bmd  ):\n",
        "\n",
        "\n",
        "* Načtěte si data `trees` z base balicku datasets.\n",
        "* Spočtěte střední hodnotu a rozptyl výšky a objemu stromů\n",
        "* Porovnejte výsledek ze zabudovaných funkcí s \"manuálním\" výpočtem podle vzorce.\n",
        "* Podívejte se `? trees` a převeďte proměnnou Girth na $cm$, Height na $m$, a Volume na $m^3$.\n",
        "* Spočtěte BMI index stromu za předpokladu, že objemová hmotnost dřeva všech uvedených stromů je konstantní a rovna 900 kg / m$^3$, Výsledek  uložte do tabulky trees jako novou proměnnou `BMI`.\t\n",
        "* Koukněte na tabulku `table` vypočtených hodnot, rozdělte ji na 3 skupiny  `{thin, normal, obese}` - a každému záznamu přiřaďte proměnnou typu faktor.\\\\\n",
        "\tpř: hodnoty break1 a break2 zvolte tak aby vám to dávalo smysl.\n",
        "``` \n",
        "\ttrees$obese = ...\n",
        "\t  cut(trees$BMI, c(0,break1,break2,1000),\n",
        "\t  labels = c(thin, normal, obese)) \n",
        "    ```\n"
      ],
      "metadata": {
        "id": "XwRWTyaJGOjE"
      }
    },
    {
      "cell_type": "markdown",
      "source": [
        "# Solution of HW goes here ..."
      ],
      "metadata": {
        "id": "l_5NUw0tGlb-"
      }
    },
    {
      "cell_type": "code",
      "execution_count": null,
      "metadata": {
        "id": "DwMuQYTbF0md"
      },
      "outputs": [],
      "source": [
        "# importy balicku\n",
        "import numpy as np\n",
        "import pandas as pd\n",
        "import csv\n",
        "import matplotlib as mpt\n",
        "from matplotlib import pyplot as plt\n"
      ]
    },
    {
      "cell_type": "code",
      "source": [
        "# import datasetu (pomoci Pandas)\n",
        "url = \"https://raw.githubusercontent.com/aleksejalex/expert-octo-eureka/main/dataset_trees_from_R.csv\"\n",
        "data = pd.read_csv(url)\n",
        "\n",
        "data\n",
        "#data.info"
      ],
      "metadata": {
        "id": "MedotQMqGcB1"
      },
      "execution_count": null,
      "outputs": []
    },
    {
      "cell_type": "code",
      "source": [
        "# zakladni prace s dataframe v Pandas:\n",
        "print(\"Tvar dat (shape):\")\n",
        "print(data.shape)\n",
        "print(\"Columns:\")\n",
        "print(data.columns.values)\n",
        "print(\"Print first 10 observations (head command):\")\n",
        "print(data.head(10))\n",
        "\n",
        "print(data.describe())  # vrati pd.dataFrame\n",
        "\n",
        "#print(\"\\n\\n\\n\")\n",
        "#df_mean_of_trees = data.describe().loc['mean']\n",
        "#print(\"\\n\\n\\n\")\n",
        "#df_mean_of_Volume = df_mean_of_trees.loc['Volume']\n",
        "#print(df_mean_of_Volume)\n",
        "#print(type(df_mean_of_Volume))\n",
        "#print(\"\\n\\n\\n\")\n",
        "#df_mean_of_Volume_more_elegantly = data.describe().loc['mean', 'Volume']\n",
        "#print(df_mean_of_Volume_more_elegantly)\n",
        "#print(type(df_mean_of_Volume_more_elegantly))\n",
        "print(\"\\n\\n\\n\")\n",
        "\n",
        "mean_of_girth = data.describe().loc['mean', 'Girth']\n",
        "mean_of_height = data.describe().loc['mean', 'Height']\n",
        "mean_of_volume = data.describe().loc['mean', 'Volume']\n",
        "var_of_girth = data.describe().loc['std', 'Girth']\n",
        "var_of_height = data.describe().loc['std', 'Height']\n",
        "var_of_volume = data.describe().loc['std', 'Volume']"
      ],
      "metadata": {
        "id": "oJa1CHMQMfPP"
      },
      "execution_count": null,
      "outputs": []
    },
    {
      "cell_type": "code",
      "source": [
        "# definice vlastnich fci na \"manualni\" vypocet E[.] a Var[.]\n",
        "def stredni_hodnota(x):\n",
        "    \"\"\"\n",
        "    spocte stredni hodnotu vektoru dat podle SS vzorce\n",
        "    \"\"\"\n",
        "    n = len(x)\n",
        "    E = 1/n * np.sum(x)\n",
        "    return E\n",
        "\n",
        "\n",
        "def rozptyl(x):\n",
        "    \"\"\"\n",
        "    spocte rozptyl vektoru dat podle SS vzorce\n",
        "    \"\"\"\n",
        "    n = len(x)\n",
        "    E = 1/n * np.sum(x)\n",
        "    Var = 1/n * np.sum( (x - E)**2 )\n",
        "    return Var\n"
      ],
      "metadata": {
        "id": "hiTfDdLxHsvQ"
      },
      "execution_count": null,
      "outputs": []
    },
    {
      "cell_type": "code",
      "source": [
        "# test zda funkce funguji (zbytecne pro puvodni ukol)\n",
        "vect = np.random.normal(0,1,1000000)\n",
        "plt.plot(vect, '.')\n",
        "print(\"stredni hodnota podle vzorce = \" + str(stredni_hodnota(vect)))\n",
        "print(\"stredni hodnota NumPy = \" + str(np.mean(vect)))\n",
        "print(\"rozptyl podle vzorce = \" + str(rozptyl(vect)))\n",
        "print(\"rozptyl podle NumPy = \" + str(np.var(vect)))"
      ],
      "metadata": {
        "id": "7jut3fWAHt23"
      },
      "execution_count": null,
      "outputs": []
    },
    {
      "cell_type": "code",
      "source": [
        "# ukol c.1 - porovnani hodnot E a Var vypoctenych pomoci a) fci z Pandas b) \"manualniho\" vzorce\n",
        "\n",
        "\n"
      ],
      "metadata": {
        "id": "dpWUClrBK_OG"
      },
      "execution_count": null,
      "outputs": []
    },
    {
      "cell_type": "code",
      "source": [
        "# ukol c.2 - prevody\n",
        "# Girth je v datasetu v in, cil je prevest na cm. \n",
        "# Height je v ft, cilem je prevest na m.\n",
        "# Volume je v ft^3, cilem je prevest na m^3.\n",
        "\n",
        "\n",
        "\n",
        "\n"
      ],
      "metadata": {
        "id": "xX2UIL3Y2ZsB"
      },
      "execution_count": null,
      "outputs": []
    },
    {
      "cell_type": "code",
      "source": [
        "# ukol c.3 - BMI\n",
        "# formula .... BMI = weight / height^2,   where weight = volume * \\rho,    where \\rho = 900 kg.m^-3\n",
        "\n",
        "\n"
      ],
      "metadata": {
        "id": "BvGY5q_82eId"
      },
      "execution_count": null,
      "outputs": []
    },
    {
      "cell_type": "code",
      "source": [],
      "metadata": {
        "id": "d0arZWAp3TkF"
      },
      "execution_count": null,
      "outputs": []
    }
  ]
}