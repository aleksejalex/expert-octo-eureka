{
  "nbformat": 4,
  "nbformat_minor": 0,
  "metadata": {
    "colab": {
      "private_outputs": true,
      "provenance": [],
      "history_visible": true,
      "authorship_tag": "ABX9TyNwQcuxGdJ0Z3KI+hmc9tVq",
      "include_colab_link": true
    },
    "kernelspec": {
      "name": "python3",
      "display_name": "Python 3"
    },
    "language_info": {
      "name": "python"
    }
  },
  "cells": [
    {
      "cell_type": "markdown",
      "metadata": {
        "id": "view-in-github",
        "colab_type": "text"
      },
      "source": [
        "<a href=\"https://colab.research.google.com/github/aleksejalex/expert-octo-eureka/blob/main/RAD_HW_01_trees_in_Python.ipynb\" target=\"_parent\"><img src=\"https://colab.research.google.com/assets/colab-badge.svg\" alt=\"Open In Colab\"/></a>"
      ]
    },
    {
      "cell_type": "markdown",
      "source": [
        "# **Homework RAD 01** \"trees\" \n",
        "by Aleksej Gaj\n",
        "\n",
        "description goes here...."
      ],
      "metadata": {
        "id": "4fg235HMGEVq"
      }
    },
    {
      "cell_type": "markdown",
      "source": [
        "Zadani (copied from >>  https://colab.research.google.com/github/francji1/01RAD/blob/main/HW/01RAD_Ex01_HW.ipynb#scrollTo=OstVgL8Y3Bmd  ):\n",
        "\n",
        "\n",
        "* Načtěte si data `trees` z base balicku datasets.\n",
        "* Spočtěte střední hodnotu a rozptyl výšky a objemu stromů\n",
        "* Porovnejte výsledek ze zabudovaných funkcí s \"manuálním\" výpočtem podle vzorce.\n",
        "* Podívejte se `? trees` a převeďte proměnnou Girth na $cm$, Height na $m$, a Volume na $m^3$.\n",
        "* Spočtěte BMI index stromu za předpokladu, že objemová hmotnost dřeva všech uvedených stromů je konstantní a rovna 900 kg / m$^3$, Výsledek  uložte do tabulky trees jako novou proměnnou `BMI`.\t\n",
        "* Koukněte na tabulku `table` vypočtených hodnot, rozdělte ji na 3 skupiny  `{thin, normal, obese}` - a každému záznamu přiřaďte proměnnou typu faktor.\\\\\n",
        "\tpř: hodnoty break1 a break2 zvolte tak aby vám to dávalo smysl.\n",
        "``` \n",
        "\ttrees$obese = ...\n",
        "\t  cut(trees$BMI, c(0,break1,break2,1000),\n",
        "\t  labels = c(thin, normal, obese)) \n",
        "    ```\n"
      ],
      "metadata": {
        "id": "XwRWTyaJGOjE"
      }
    },
    {
      "cell_type": "markdown",
      "source": [
        "# Solution of HW goes here ..."
      ],
      "metadata": {
        "id": "l_5NUw0tGlb-"
      }
    },
    {
      "cell_type": "code",
      "execution_count": null,
      "metadata": {
        "id": "DwMuQYTbF0md"
      },
      "outputs": [],
      "source": [
        "# importy balicku\n",
        "import inspect\n",
        "import numpy as np\n",
        "import pandas as pd\n",
        "import csv\n",
        "import matplotlib as mpt\n",
        "from matplotlib import pyplot as plt\n",
        "\n",
        "\n",
        "def retrieve_name(var):\n",
        "    callers_local_vars = inspect.currentframe().f_back.f_locals.items()\n",
        "    return [var_name for var_name, var_val in callers_local_vars if var_val is var]\n",
        "\n",
        "\n",
        "asd = 4\n",
        "print(asd)\n",
        "print(retrieve_name(asd))\n"
      ]
    },
    {
      "cell_type": "code",
      "source": [
        "# import datasetu (pomoci Pandas)\n",
        "# (puvodne dataset byl stazen z >>  https://r-data.pmagunia.com/dataset/trees  )\n",
        "url = \"https://raw.githubusercontent.com/aleksejalex/expert-octo-eureka/main/dataset_trees_from_R.csv\"\n",
        "data = pd.read_csv(url)\n",
        "\n",
        "data\n",
        "#data.info"
      ],
      "metadata": {
        "id": "MedotQMqGcB1"
      },
      "execution_count": null,
      "outputs": []
    },
    {
      "cell_type": "code",
      "source": [
        "# zakladni prace s dataframe v Pandas:\n",
        "print(\"Tvar dat (shape):\")\n",
        "print(data.shape)\n",
        "print(\"Columns:\")\n",
        "print(data.columns.values)\n",
        "print(\"Print first 10 observations (head command):\")\n",
        "print(data.head(10))\n",
        "\n",
        "print(data.describe())  # vrati pd.dataFrame\n",
        "\n",
        "#print(\"\\n\\n\\n\")\n",
        "#df_mean_of_trees = data.describe().loc['mean']\n",
        "#print(\"\\n\\n\\n\")\n",
        "#df_mean_of_Volume = df_mean_of_trees.loc['Volume']\n",
        "#print(df_mean_of_Volume)\n",
        "#print(type(df_mean_of_Volume))\n",
        "#print(\"\\n\\n\\n\")\n",
        "#df_mean_of_Volume_more_elegantly = data.describe().loc['mean', 'Volume']\n",
        "#print(df_mean_of_Volume_more_elegantly)\n",
        "#print(type(df_mean_of_Volume_more_elegantly))\n",
        "print(\"\\n\\n\\n\")\n",
        "\n",
        "mean_of_girth = data.describe().loc['mean', 'Girth']\n",
        "mean_of_height = data.describe().loc['mean', 'Height']\n",
        "mean_of_volume = data.describe().loc['mean', 'Volume']\n",
        "var_of_girth = data.describe().loc['std', 'Girth']\n",
        "var_of_height = data.describe().loc['std', 'Height']\n",
        "var_of_volume = data.describe().loc['std', 'Volume']"
      ],
      "metadata": {
        "id": "oJa1CHMQMfPP"
      },
      "execution_count": null,
      "outputs": []
    },
    {
      "cell_type": "code",
      "source": [
        "# definice vlastnich fci na \"manualni\" vypocet E[.] a Var[.]\n",
        "def stredni_hodnota(x):\n",
        "    \"\"\"\n",
        "    spocte stredni hodnotu vektoru dat podle SS vzorce\n",
        "    \"\"\"\n",
        "    n = len(x)\n",
        "    E = 1/n * np.sum(x)\n",
        "    return E\n",
        "\n",
        "\n",
        "def rozptyl(x):\n",
        "    \"\"\"\n",
        "    spocte rozptyl vektoru dat podle SS vzorce\n",
        "    \"\"\"\n",
        "    n = len(x)\n",
        "    E = 1/n * np.sum(x)\n",
        "    Var = np.sqrt(  1/n * np.sum( (x - E)**2 )  )\n",
        "    return Var\n"
      ],
      "metadata": {
        "id": "hiTfDdLxHsvQ"
      },
      "execution_count": null,
      "outputs": []
    },
    {
      "cell_type": "code",
      "source": [
        "# test zda funkce funguji (zbytecne pro puvodni ukol)\n",
        "vect = np.random.normal(0,1,1000000)\n",
        "plt.plot(vect, '.')\n",
        "print(\"stredni hodnota podle vzorce = \" + str(stredni_hodnota(vect)))\n",
        "print(\"stredni hodnota NumPy = \" + str(np.mean(vect)))\n",
        "print(\"rozptyl podle vzorce = \" + str(rozptyl(vect)))\n",
        "print(\"rozptyl podle NumPy = \" + str(np.var(vect)))"
      ],
      "metadata": {
        "id": "7jut3fWAHt23"
      },
      "execution_count": null,
      "outputs": []
    },
    {
      "cell_type": "code",
      "source": [
        "# ukol c.1 - porovnani hodnot E a Var vypoctenych pomoci a) fci z Pandas b) \"manualniho\" vzorce\n",
        "\n",
        "def get_array_from_df(row_or_column_df):\n",
        "    \"\"\"\n",
        "    input: dataFrame bud radkovy nebo sloupcovy\n",
        "    output: tytez cisla ale v numpy.array promenne\n",
        "    \"\"\"\n",
        "    #data.loc[:, \"Girth\"]\n",
        "    list = row_or_column_df.to_list()\n",
        "    nparray = np.array(list)\n",
        "    return nparray\n",
        "\n",
        "\n",
        "print(\"GIRTH\")\n",
        "print(str(retrieve_name(mean_of_girth)) + \" = \" + str(mean_of_girth))\n",
        "girth_array = get_array_from_df(data.loc[:, \"Girth\"])\n",
        "print(\"stredni hodnota podle vzorce = \" + str(stredni_hodnota(girth_array)))\n",
        "\n",
        "print(str(retrieve_name(var_of_girth)) + \" = \" + str(var_of_girth))\n",
        "print(\"rozptyl podle vzorce = \" + str(rozptyl(girth_array)))\n",
        "\n",
        "\n",
        "print(\"\\n\\n\")\n",
        "print(\"HEIGHT\")\n",
        "print(str(retrieve_name(mean_of_height)) + \" = \" + str(mean_of_height))\n",
        "height_array = get_array_from_df(data.loc[:, \"Height\"])\n",
        "print(\"stredni hodnota podle vzorce = \" + str(stredni_hodnota(height_array)))\n",
        "\n",
        "print(str(retrieve_name(var_of_height)) + \" = \" + str(var_of_height))\n",
        "print(\"rozptyl podle vzorce = \" + str(rozptyl(height_array)))\n",
        "\n",
        "\n",
        "print(\"\\n\\n\")\n",
        "print(\"VOLUME\")\n",
        "print(str(retrieve_name(mean_of_volume)) + \" = \" + str(mean_of_volume))\n",
        "volume_array = get_array_from_df(data.loc[:, \"Volume\"])\n",
        "print(\"stredni hodnota podle vzorce = \" + str(stredni_hodnota(volume_array)))\n",
        "\n",
        "print(str(retrieve_name(var_of_volume)) + \" = \" + str(var_of_volume))\n",
        "volume_array = get_array_from_df(data.loc[:, \"Volume\"])\n",
        "print(\"rozptyl podle vzorce = \" + str(rozptyl(volume_array)))\n"
      ],
      "metadata": {
        "id": "dpWUClrBK_OG"
      },
      "execution_count": null,
      "outputs": []
    },
    {
      "cell_type": "code",
      "source": [
        "# ukol c.2 - prevody\n",
        "# Girth je v datasetu v in, cil je prevest na cm. \n",
        "# Height je v ft, cilem je prevest na m.\n",
        "# Volume je v ft^3, cilem je prevest na m^3.\n",
        "\n",
        "# [in]*2.54 = [cm]\n",
        "# [ft]/3.28 = [m]\n",
        "# [ft^3]/35.315 = [m^3]\n",
        "\n",
        "print(data)\n",
        "data.Girth = data.Girth * 2.54\n",
        "data.Height = data.Height * (1/3.28)\n",
        "data.Volume = data.Volume * (1/35.315)\n",
        "\n",
        "print(data)\n"
      ],
      "metadata": {
        "id": "xX2UIL3Y2ZsB"
      },
      "execution_count": null,
      "outputs": []
    },
    {
      "cell_type": "code",
      "source": [
        "# ukol c.3 - BMI\n",
        "# formula .... BMI = weight / height^2,   where weight = volume * \\rho,    where \\rho = 900 kg.m^-3\n",
        "\n",
        "def bmi_rad(V, h, rho):\n",
        "    \"\"\"\n",
        "    BMI index for RAD needs (calculation based on volume V, height h and density rho)\n",
        "    \"\"\"\n",
        "    mass = V * rho\n",
        "    BMI = mass / (h)**2\n",
        "    return BMI\n",
        "\n",
        "rho = 900    # podle zadani fixni\n",
        "\n",
        "# 1. napoctu vektor BMI hodnot pro stromy\n",
        "# 2. pripojim na konec df 'data'\n",
        "\n",
        "BMI_vector = bmi_rad (volume_array, height_array ,rho)\n",
        "print(BMI_vector)\n",
        "\n",
        "data.insert(3, \"BMI\", BMI_vector, True)\n",
        "print(data)"
      ],
      "metadata": {
        "id": "BvGY5q_82eId"
      },
      "execution_count": null,
      "outputs": []
    },
    {
      "cell_type": "code",
      "source": [
        "# ukol c.4 - rozdelit stromy podle obezity\n",
        "# jejich BMI je od 1 do 9, volme tedy\n",
        "# thin .... od 0 do 3\n",
        "# normal ... od 3 do 7\n",
        "# obese ... od 7 do 10\n",
        "\n",
        "tree_obesity = []\n",
        "\n",
        "for i in range(len(data)):\n",
        "    if data.loc[i, \"BMI\"] <= 0:\n",
        "        print(\"Something strange!!! BMI is lequal than 0.\")\n",
        "    else:\n",
        "        if data.loc[i, \"BMI\"] <= 3:\n",
        "            tree_obesity.append(\"thin\")\n",
        "        else:\n",
        "            if data.loc[i, \"BMI\"] <= 7:\n",
        "                tree_obesity.append(\"normal\")\n",
        "            else:\n",
        "                if data.loc[i, \"BMI\"] <= 10:\n",
        "                    tree_obesity.append(\"obese\")\n",
        "                else:\n",
        "                    if data.loc[i, \"BMI\"] > 10:\n",
        "                        print(\"Tree is too fat to classify.\")\n",
        "    \n",
        "#print(data)\n",
        "#print(tree_obesity)\n",
        "#print(len(tree_obesity))\n",
        "\n",
        "data.insert(4, \"Obesity\", tree_obesity, True)\n"
      ],
      "metadata": {
        "id": "9WqnIYzkGlV-"
      },
      "execution_count": null,
      "outputs": []
    },
    {
      "cell_type": "code",
      "source": [
        "print(data)"
      ],
      "metadata": {
        "id": "aLtI4qHssMez"
      },
      "execution_count": null,
      "outputs": []
    },
    {
      "cell_type": "code",
      "source": [
        "### pouze ucim se s Pandas dataFramey\n",
        "import pandas as pd\n",
        "list = ['a', 'b', \"James\", '1234']\n",
        "muj_df = pd.DataFrame(list)\n",
        "print(muj_df)\n",
        "\n",
        "moje_data = {'Name':['Tom', 'nick', 'krish', 'jack'], 'Age':[20, 21, 19, 18]}\n",
        "print(moje_data)\n",
        "muj_df_2 = pd.DataFrame(moje_data)\n",
        "print(muj_df_2)\n",
        "\n",
        "colors = {'first_set':  ['Green','Green','Green','Blue','Blue','Red','Red','Red'],\n",
        "          'second_set': ['Yellow','Yellow','Yellow','White','White','Blue','Blue','Blue']\n",
        "         }\n",
        "\n",
        "colors_df = pd.DataFrame(colors, columns= ['first_set','second_set'])\n",
        "\n",
        "print(colors_df)\n",
        "print(\"\\n\\n\\n\")\n",
        "\n",
        "\n",
        "#########################\n",
        "# how to mupltiply a column with a number\n",
        "df = pd.DataFrame(np.ones((5,6)),columns=['one','two','three','four','five','six'])\n",
        "df.one *=5\n",
        "df.two = df.two*5\n",
        "df.three = df.three.multiply(5)\n",
        "df['four'] = df['four']*5\n",
        "df.loc[:, 'five'] *=5\n",
        "df.iloc[:, 5] = df.iloc[:, 5]*5\n",
        "\n",
        "\n",
        "#########################\n",
        "# how to insert new column\n",
        "# 1. Define a dictionary containing Students data\n",
        "data = {'Name': ['Jai', 'Princi', 'Gaurav', 'Anuj'],\n",
        "        'Height': [5.1, 6.2, 5.1, 5.2],\n",
        "        'Qualification': ['Msc', 'MA', 'Msc', 'Msc']}\n",
        "  \n",
        "# 2. Convert the dictionary into DataFrame\n",
        "df = pd.DataFrame(data)\n",
        "  \n",
        "# 3. Using DataFrame.insert() to add a column\n",
        "df.insert(2, \"Age\", [21, 23, 24, 21], True)\n",
        "  \n",
        "# 4. Observe the result\n",
        "print(df)\n",
        "\n"
      ],
      "metadata": {
        "id": "d0arZWAp3TkF"
      },
      "execution_count": null,
      "outputs": []
    },
    {
      "cell_type": "code",
      "source": [
        "## next chapter goes here....\n",
        "\n"
      ],
      "metadata": {
        "id": "8KiQ7PrX6ctF"
      },
      "execution_count": null,
      "outputs": []
    },
    {
      "cell_type": "code",
      "source": [],
      "metadata": {
        "id": "eonOx65sr7aY"
      },
      "execution_count": null,
      "outputs": []
    }
  ]
}