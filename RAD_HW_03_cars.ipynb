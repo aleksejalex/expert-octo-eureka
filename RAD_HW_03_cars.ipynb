{
  "nbformat": 4,
  "nbformat_minor": 0,
  "metadata": {
    "colab": {
      "private_outputs": true,
      "provenance": [],
      "authorship_tag": "ABX9TyPJoqGZ2M5aZTYhDOiWCRpO",
      "include_colab_link": true
    },
    "kernelspec": {
      "name": "python3",
      "display_name": "Python 3"
    },
    "language_info": {
      "name": "python"
    }
  },
  "cells": [
    {
      "cell_type": "markdown",
      "metadata": {
        "id": "view-in-github",
        "colab_type": "text"
      },
      "source": [
        "<a href=\"https://colab.research.google.com/github/aleksejalex/expert-octo-eureka/blob/main/RAD_HW_03_cars.ipynb\" target=\"_parent\"><img src=\"https://colab.research.google.com/assets/colab-badge.svg\" alt=\"Open In Colab\"/></a>"
      ]
    },
    {
      "cell_type": "markdown",
      "source": [
        "# Zadani:\n",
        "\n",
        "..###############** Exercise - Mini Homework 03** ###########\n",
        "\n",
        " Investigate a relationship between speed and stopping distance for cars\n",
        "\n",
        "`summary(cars)`\n",
        "\n",
        "`?cars`\n",
        "\n",
        " Questions:\n",
        " 1) Display data set (scatter plot, histograms and density plots of speed and dist variables)\n",
        "\n",
        " 2) Try model with and without intercept\n",
        "\n",
        " 3) Compute \"manually\" OLS estimate of regression parameters and error variance\n",
        "\n",
        " 4) Compute \"manually\" variance of estimated parameters\n",
        "\n",
        " 5) Plot data with both estimated regression lines\n",
        "\n",
        " 6) Investigate output from the lm function\n",
        "\n",
        " 7) whats the estimated stopping distance for a car going 20mph? (use both models). Compare with the estimated stopping distance for a car going 30mph? (use both models, can we predict this?)\n",
        "\n",
        " 8) Is the simple linear model good approximation for these problems? Suggest next steps.\n",
        "\n",
        "\n",
        "\n"
      ],
      "metadata": {
        "id": "ZKe294XpFxls"
      }
    },
    {
      "cell_type": "markdown",
      "source": [
        "# Reseni (vypracovano v Pythonu):"
      ],
      "metadata": {
        "id": "dxNB0eYLGUT7"
      }
    },
    {
      "cell_type": "code",
      "execution_count": null,
      "metadata": {
        "id": "JYUqXRdVFcaP"
      },
      "outputs": [],
      "source": [
        "# importy balicku\n",
        "import inspect\n",
        "import numpy as np\n",
        "import pandas as pd\n",
        "import csv\n",
        "import matplotlib as mpt\n",
        "from matplotlib import pyplot as plt\n",
        "from scipy import stats as st\n",
        "\n",
        "\n",
        "def retrieve_name(var):\n",
        "    callers_local_vars = inspect.currentframe().f_back.f_locals.items()\n",
        "    return [var_name for var_name, var_val in callers_local_vars if var_val is var]\n",
        "\n",
        "\n",
        "examplevarr = 4\n",
        "print(examplevarr)\n",
        "print(retrieve_name(examplevarr))\n",
        "\n",
        "\n",
        "def get_array_from_df(row_or_column_df):\n",
        "    \"\"\"\n",
        "    input: dataFrame bud radkovy nebo sloupcovy\n",
        "    output: tytez cisla ale v numpy.array promenne\n",
        "    \"\"\"\n",
        "    #data.loc[:, \"Girth\"]\n",
        "    list = row_or_column_df.to_list()\n",
        "    nparray = np.array(list)\n",
        "    return nparray\n",
        "\n"
      ]
    },
    {
      "cell_type": "code",
      "source": [
        "# import datasetu (pomoci Pandas)\n",
        "# (puvodne dataset byl stazen z >>  https://r-data.pmagunia.com/dataset/trees  )\n",
        "url = \"https://raw.githubusercontent.com/aleksejalex/expert-octo-eureka/main/dataset_cars_from_R.csv\"\n",
        "data = pd.read_csv(url)\n",
        "\n",
        "data\n",
        "#data.info"
      ],
      "metadata": {
        "id": "_ld0DMOnF1aL"
      },
      "execution_count": null,
      "outputs": []
    },
    {
      "cell_type": "code",
      "source": [],
      "metadata": {
        "id": "gaGAgzLtF1XG"
      },
      "execution_count": null,
      "outputs": []
    },
    {
      "cell_type": "code",
      "source": [],
      "metadata": {
        "id": "emtDaF75F1T6"
      },
      "execution_count": null,
      "outputs": []
    },
    {
      "cell_type": "code",
      "source": [],
      "metadata": {
        "id": "Ul5eeOd8F1QL"
      },
      "execution_count": null,
      "outputs": []
    },
    {
      "cell_type": "code",
      "source": [],
      "metadata": {
        "id": "t12CJC7OF1J9"
      },
      "execution_count": null,
      "outputs": []
    },
    {
      "cell_type": "code",
      "source": [],
      "metadata": {
        "id": "n3qWKjzYF0-7"
      },
      "execution_count": null,
      "outputs": []
    }
  ]
}