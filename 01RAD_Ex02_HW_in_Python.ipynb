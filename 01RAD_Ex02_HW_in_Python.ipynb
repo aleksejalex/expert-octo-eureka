{
  "nbformat": 4,
  "nbformat_minor": 0,
  "metadata": {
    "colab": {
      "private_outputs": true,
      "provenance": [],
      "collapsed_sections": [],
      "include_colab_link": true
    },
    "kernelspec": {
      "name": "python3",
      "display_name": "Python 3"
    },
    "language_info": {
      "name": "python"
    }
  },
  "cells": [
    {
      "cell_type": "markdown",
      "metadata": {
        "id": "view-in-github",
        "colab_type": "text"
      },
      "source": [
        "<a href=\"https://colab.research.google.com/github/aleksejalex/expert-octo-eureka/blob/main/01RAD_Ex02_HW_in_Python.ipynb\" target=\"_parent\"><img src=\"https://colab.research.google.com/assets/colab-badge.svg\" alt=\"Open In Colab\"/></a>"
      ]
    },
    {
      "cell_type": "markdown",
      "metadata": {
        "id": "x2ANRhx73HWm"
      },
      "source": [
        "# 01RAD Exercise *02*"
      ]
    },
    {
      "cell_type": "markdown",
      "source": [
        "Načtěte a případně si upravte data o ústřicích:\n",
        "\n",
        "Originalni zdroj dat: http://ww2.amstat.org/publications/jse/jse_data_archive.htm\n",
        "\n"
      ],
      "metadata": {
        "id": "eogC5gFhl-pt"
      }
    },
    {
      "cell_type": "code",
      "source": [
        "#oysters <- read.table(\"https://raw.githubusercontent.com/francji1/01RAD/main/data/30oysters.csv\",header=TRUE,sep=\";\")\n",
        "#head(oysters)\n",
        "\n",
        "#summary(oysters)\n",
        "\n",
        "#plot(oysters$Oyster_Weight_g,oysters$Oyster_Volume_cc,\n",
        "#     xlab=\"Vaha ustrice\",\n",
        "#     ylab=\"Objem ustrice\")"
      ],
      "metadata": {
        "id": "UQzWaxVgmAqp"
      },
      "execution_count": null,
      "outputs": []
    },
    {
      "cell_type": "markdown",
      "source": [
        "### Zadání:\n",
        "\n",
        "* Vykreslete histogramy, krabicove diagramy, scatterploty, kolacove diagramy,  pairs atd pro data ustrice.\n",
        "* Rozdelete ustrice do 3 skupin podle vahy 0-9, 9-12, 12-20 a vykreslete boxploty objemu pro tyto skupiny spolu s prumerem.\n",
        "* Rozdelte ustrice do 4 skupin podle hmotnosti - kvantilove a opakujte predchozi vykresleni obrazku.\n",
        "* Prolozte histogramy hmotnosti i objemu odhadem hustoty prislusneho normalniho rozdeleni (nepouzivejte jadrovy odhad s gaussovskym jadrem, ale husotu normalniho rozdeleni, kde si parametry $\\mu$ a $sd$ odhadnete sami zvlast).\n",
        "\n"
      ],
      "metadata": {
        "id": "UuJeEo2Bmu-C"
      }
    },
    {
      "cell_type": "code",
      "source": [
        "# importy balicku\n",
        "import inspect\n",
        "import numpy as np\n",
        "import pandas as pd\n",
        "import csv\n",
        "import matplotlib as mpt\n",
        "from matplotlib import pyplot as plt\n",
        "\n",
        "\n",
        "def retrieve_name(var):\n",
        "    callers_local_vars = inspect.currentframe().f_back.f_locals.items()\n",
        "    return [var_name for var_name, var_val in callers_local_vars if var_val is var]\n",
        "\n",
        "\n",
        "examplevarr = 4\n",
        "print(examplevarr)\n",
        "print(retrieve_name(examplevarr))"
      ],
      "metadata": {
        "id": "qpf67AHknP-j"
      },
      "execution_count": null,
      "outputs": []
    },
    {
      "cell_type": "code",
      "source": [
        "# import datasetu (pomoci Pandas)\n",
        "# (puvodne dataset byl stazen z >>    )\n",
        "url = \"https://raw.githubusercontent.com/francji1/01RAD/main/data/30oysters.csv\"\n",
        "data = pd.read_csv(url, delimiter=';')\n",
        "\n",
        "data\n",
        "#data.info\n"
      ],
      "metadata": {
        "id": "zBEcWh1F2fys"
      },
      "execution_count": null,
      "outputs": []
    },
    {
      "cell_type": "code",
      "source": [],
      "metadata": {
        "id": "sp-L3QM93YlL"
      },
      "execution_count": null,
      "outputs": []
    },
    {
      "cell_type": "code",
      "source": [],
      "metadata": {
        "id": "dJF2h72S3Yan"
      },
      "execution_count": null,
      "outputs": []
    },
    {
      "cell_type": "code",
      "source": [],
      "metadata": {
        "id": "uXFxAjdV3YL9"
      },
      "execution_count": null,
      "outputs": []
    }
  ]
}