{
  "nbformat": 4,
  "nbformat_minor": 0,
  "metadata": {
    "colab": {
      "private_outputs": true,
      "provenance": [],
      "collapsed_sections": [],
      "history_visible": true,
      "include_colab_link": true
    },
    "kernelspec": {
      "name": "python3",
      "display_name": "Python 3"
    },
    "language_info": {
      "name": "python"
    }
  },
  "cells": [
    {
      "cell_type": "markdown",
      "metadata": {
        "id": "view-in-github",
        "colab_type": "text"
      },
      "source": [
        "<a href=\"https://colab.research.google.com/github/aleksejalex/expert-octo-eureka/blob/main/01RAD_Ex02_HW_in_Python.ipynb\" target=\"_parent\"><img src=\"https://colab.research.google.com/assets/colab-badge.svg\" alt=\"Open In Colab\"/></a>"
      ]
    },
    {
      "cell_type": "markdown",
      "metadata": {
        "id": "x2ANRhx73HWm"
      },
      "source": [
        "# 01RAD Exercise *02*"
      ]
    },
    {
      "cell_type": "markdown",
      "source": [
        "Načtěte a případně si upravte data o ústřicích:\n",
        "\n",
        "Originalni zdroj dat: http://ww2.amstat.org/publications/jse/jse_data_archive.htm\n",
        "\n"
      ],
      "metadata": {
        "id": "eogC5gFhl-pt"
      }
    },
    {
      "cell_type": "code",
      "source": [
        "#oysters <- read.table(\"https://raw.githubusercontent.com/francji1/01RAD/main/data/30oysters.csv\",header=TRUE,sep=\";\")\n",
        "#head(oysters)\n",
        "\n",
        "#summary(oysters)\n",
        "\n",
        "#plot(oysters$Oyster_Weight_g,oysters$Oyster_Volume_cc,\n",
        "#     xlab=\"Vaha ustrice\",\n",
        "#     ylab=\"Objem ustrice\")"
      ],
      "metadata": {
        "id": "UQzWaxVgmAqp"
      },
      "execution_count": null,
      "outputs": []
    },
    {
      "cell_type": "markdown",
      "source": [
        "### Zadání:\n",
        "\n",
        "* Vykreslete histogramy, krabicove diagramy, scatterploty, kolacove diagramy,  pairs atd pro data ustrice.\n",
        "* Rozdelete ustrice do 3 skupin podle vahy 0-9, 9-12, 12-20 a vykreslete boxploty objemu pro tyto skupiny spolu s prumerem.\n",
        "* Rozdelte ustrice do 4 skupin podle hmotnosti - kvantilove a opakujte predchozi vykresleni obrazku.\n",
        "* Prolozte histogramy hmotnosti i objemu odhadem hustoty prislusneho normalniho rozdeleni (nepouzivejte jadrovy odhad s gaussovskym jadrem, ale husotu normalniho rozdeleni, kde si parametry $\\mu$ a $sd$ odhadnete sami zvlast).\n",
        "\n"
      ],
      "metadata": {
        "id": "UuJeEo2Bmu-C"
      }
    },
    {
      "cell_type": "code",
      "source": [
        "# importy balicku\n",
        "import inspect\n",
        "import numpy as np\n",
        "import pandas as pd\n",
        "import seaborn as sbn\n",
        "import csv\n",
        "import matplotlib as mpt\n",
        "from matplotlib import pyplot as plt\n",
        "\n",
        "\n",
        "def retrieve_name(var):\n",
        "    callers_local_vars = inspect.currentframe().f_back.f_locals.items()\n",
        "    return [var_name for var_name, var_val in callers_local_vars if var_val is var]\n",
        "\n",
        "\n",
        "examplevarr = 4\n",
        "print(examplevarr)\n",
        "print(retrieve_name(examplevarr))"
      ],
      "metadata": {
        "id": "qpf67AHknP-j"
      },
      "execution_count": null,
      "outputs": []
    },
    {
      "cell_type": "code",
      "source": [
        "# import datasetu (pomoci Pandas)\n",
        "# (puvodne dataset byl stazen z >>    )\n",
        "url = \"https://raw.githubusercontent.com/francji1/01RAD/main/data/30oysters.csv\"\n",
        "data = pd.read_csv(url, delimiter=';')\n",
        "\n",
        "data\n",
        "#data.info\n"
      ],
      "metadata": {
        "id": "zBEcWh1F2fys"
      },
      "execution_count": null,
      "outputs": []
    },
    {
      "cell_type": "markdown",
      "source": [
        "# Úkol č.1"
      ],
      "metadata": {
        "id": "5RmWY8MrCF7h"
      }
    },
    {
      "cell_type": "code",
      "source": [
        "num_of_bins = 15\n",
        "plt.figure(figsize=(8,6))\n",
        "#plt.hist(data.loc[:,\"Oyster_Weight_g\"], num_of_bins)\n",
        "\n",
        "\n",
        "fig, axs = plt.subplots(2, 2, figsize=(15, 10))\n",
        "axs[0, 0].hist(data.loc[:,\"Oyster_Weight_g\"], num_of_bins)\n",
        "            #plot(range(len(data.loc[:,\"Oyster_Weight_g\"])), data.loc[:,\"Oyster_Weight_g\"])\n",
        "axs[0, 0].set_title(\"Histogram hmotností ústřic\")\n",
        "axs[0, 1].hist(data.loc[:,\"Oyster_Volume_cc\"], num_of_bins)\n",
        "axs[0, 1].set_title(\"Histogram objemů ústřic\")\n",
        "axs[1, 0].hist(data.loc[:,\"Pixels_2D\"])\n",
        "axs[1, 0].set_title(\"Histogram pixels 2\")\n",
        "axs[1, 1].hist(data.loc[:,\"Pixels_3D\"])\n",
        "axs[1, 1].set_title(\"Histogram pixels 3\")\n",
        "\n"
      ],
      "metadata": {
        "id": "sp-L3QM93YlL"
      },
      "execution_count": null,
      "outputs": []
    },
    {
      "cell_type": "code",
      "source": [
        "# pairs\n",
        "sbn.pairplot(data)"
      ],
      "metadata": {
        "id": "dJF2h72S3Yan"
      },
      "execution_count": null,
      "outputs": []
    },
    {
      "cell_type": "code",
      "source": [
        "\n",
        "fig, ax = plt.subplots(2, 2, figsize=(15, 10))\n",
        "ax[0,0].scatter(range(len(data.loc[:,\"Oyster_Weight_g\"])), data.loc[:,\"Oyster_Weight_g\"], c =\"pink\",\n",
        "            linewidths = 2,\n",
        "            marker =\"s\",\n",
        "            edgecolor =\"green\",\n",
        "            s = 50)\n",
        " \n",
        "ax[0,0].scatter(range(len(data.loc[:,\"Oyster_Volume_cc\"])), data.loc[:,\"Oyster_Volume_cc\"], c =\"yellow\",\n",
        "            linewidths = 2,\n",
        "            marker =\"*\",\n",
        "            edgecolor =\"red\",\n",
        "            s = 28)\n",
        "ax[0,0].set_title(\"Scatterplot: ctverecky - hmotnost ustric, hvezdicky - objem\")\n",
        "#ax[0,0].xlabel(\"Poradove cislo ustrice\")\n",
        "#ax[0,0].ylabel(\"hmotnost resp. objem\")\n",
        "\n",
        "plt.show()\n",
        "\n",
        "\n",
        "\n",
        "\n"
      ],
      "metadata": {
        "id": "PIBK6CpeCpxj"
      },
      "execution_count": null,
      "outputs": []
    },
    {
      "cell_type": "code",
      "source": [
        "category_of_oyster = []\n",
        "\n",
        "for i in range(len(data)):\n",
        "    if data.loc[i, \"Oyster_Weight_g\"] <= 0:\n",
        "        print(\"Something strange!!!\")\n",
        "    else:\n",
        "        if data.loc[i, \"Oyster_Weight_g\"] <= 9:\n",
        "            category_of_oyster.append(\"first\")\n",
        "        else:\n",
        "            if data.loc[i, \"Oyster_Weight_g\"] <= 12:\n",
        "                category_of_oyster.append(\"second\")\n",
        "            else:\n",
        "                if data.loc[i, \"Oyster_Weight_g\"] <= 20:\n",
        "                    category_of_oyster.append(\"third\")\n",
        "                else:\n",
        "                    if data.loc[i, \"Oyster_Weight_g\"] > 20:\n",
        "                        print(\"Something strange!!!\")\n",
        "    \n",
        "\n",
        "\n",
        "print(data)\n",
        "data.insert(5, \"Cathegory_of_oyster\", category_of_oyster, True)\n",
        "print(data)\n",
        "\n"
      ],
      "metadata": {
        "id": "JK861bgfFRj5"
      },
      "execution_count": null,
      "outputs": []
    },
    {
      "cell_type": "code",
      "source": [
        "#boxploty pro jednotlive kategorie vahy\n",
        "\n",
        "def get_array_from_df(row_or_column_df):\n",
        "    \"\"\"\n",
        "    input: dataFrame bud radkovy nebo sloupcovy\n",
        "    output: tytez cisla ale v numpy.array promenne\n",
        "    \"\"\"\n",
        "    #data.loc[:, \"Girth\"]\n",
        "    list = row_or_column_df.to_list()\n",
        "    nparray = np.array(list)\n",
        "    return nparray\n",
        "\n",
        "\n",
        "plt.figure(figsize=(8,6))\n",
        "\n",
        "df_first_oysters = data[data['Cathegory_of_oyster'] == 'first']  # filtered\n",
        "df_second_oysters = data[data['Cathegory_of_oyster'] == 'second']  # filtered\n",
        "df_third_oysters = data[data['Cathegory_of_oyster'] == 'third']  # filtered\n",
        "#print(df_first_oysters.loc[:, \"Oyster_Volume_cc\"])\n",
        "plt.boxplot(get_array_from_df(df_first_oysters.loc[:, \"Oyster_Weight_g\"]))\n",
        "plt.boxplot(get_array_from_df(df_second_oysters.loc[:, \"Oyster_Weight_g\"]))\n",
        "plt.boxplot(get_array_from_df(df_third_oysters.loc[:, \"Oyster_Weight_g\"]))\n",
        "plt.title(\"Boxploty pro tri kategorie vahy\")\n",
        "plt.show()\n",
        "\n",
        "\n"
      ],
      "metadata": {
        "id": "rn8ipaLFGwVB"
      },
      "execution_count": null,
      "outputs": []
    },
    {
      "cell_type": "code",
      "source": [
        "plt.figure(figsize=(8,6))\n",
        "\n",
        "df_first_oysters = data[data['Cathegory_of_oyster'] == 'first']  # filtered\n",
        "df_second_oysters = data[data['Cathegory_of_oyster'] == 'second']  # filtered\n",
        "df_third_oysters = data[data['Cathegory_of_oyster'] == 'third']  # filtered\n",
        "#print(df_first_oysters.loc[:, \"Oyster_Volume_cc\"])\n",
        "data_for_boxplot = [get_array_from_df(df_first_oysters), get_array_from_df(df_second_oysters), get_array_from_df(df_third_oysters)]\n",
        "plt.boxplot(data_for_boxplot)\n",
        "\n",
        "plt.title(\"Boxploty pro tri kategorie vahy\")\n",
        "plt.show()"
      ],
      "metadata": {
        "id": "d67XDS3IMEee"
      },
      "execution_count": null,
      "outputs": []
    },
    {
      "cell_type": "markdown",
      "source": [
        "**konec ukolu.** nize pouze zkusebni poznamky."
      ],
      "metadata": {
        "id": "iGsxqC0wB70q"
      }
    },
    {
      "cell_type": "code",
      "source": [
        "plt.subplot(221)\n",
        "\n",
        "# equivalent but more general\n",
        "ax1 = plt.subplot(2, 2, 1)\n",
        "\n",
        "# add a subplot with no frame\n",
        "ax2 = plt.subplot(222, frameon=False)\n",
        "\n",
        "# add a polar subplot\n",
        "plt.subplot(223, projection='polar')\n",
        "\n",
        "# add a red subplot that shares the x-axis with ax1\n",
        "plt.subplot(224, sharex=ax1)\n",
        "\n",
        "# add ax2 to the figure again\n",
        "plt.subplot(ax2)\n",
        "\n"
      ],
      "metadata": {
        "id": "uXFxAjdV3YL9"
      },
      "execution_count": null,
      "outputs": []
    },
    {
      "cell_type": "code",
      "source": [],
      "metadata": {
        "id": "prUcQZGA-QKe"
      },
      "execution_count": null,
      "outputs": []
    }
  ]
}