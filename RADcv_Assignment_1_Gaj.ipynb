{
  "nbformat": 4,
  "nbformat_minor": 0,
  "metadata": {
    "colab": {
      "provenance": [],
      "history_visible": true,
      "authorship_tag": "ABX9TyPe/eDIca1JjmR5CEVRajn3",
      "include_colab_link": true
    },
    "kernelspec": {
      "name": "python3",
      "display_name": "Python 3"
    },
    "language_info": {
      "name": "python"
    }
  },
  "cells": [
    {
      "cell_type": "markdown",
      "metadata": {
        "id": "view-in-github",
        "colab_type": "text"
      },
      "source": [
        "<a href=\"https://colab.research.google.com/github/aleksejalex/expert-octo-eureka/blob/main/RADcv_Assignment_1_Gaj.ipynb\" target=\"_parent\"><img src=\"https://colab.research.google.com/assets/colab-badge.svg\" alt=\"Open In Colab\"/></a>"
      ]
    },
    {
      "cell_type": "markdown",
      "source": [
        "# RADcv - 1. zápočtová úloha\n",
        "Aleksej Gaj\n",
        "(vypracováno v Pythonu)"
      ],
      "metadata": {
        "id": "nqzpTqEFUfk3"
      }
    },
    {
      "cell_type": "markdown",
      "source": [
        "Zadání:\n",
        "\n",
        "## Popis úlohy\n",
        "\n",
        "V tomto úkolu je cílem provést předzpracování datového souboru, jeho vizualizaci a jednoduchou lineární regresní úlohu, kde se budeme zajímat o ceny nemovitostí. Za tímto účelem využijeme datový set *saratosa_hoouses* z knihovny *moderndive* obsahující výběr 1057 domů."
      ],
      "metadata": {
        "id": "45zPcFskUsGE"
      }
    },
    {
      "cell_type": "markdown",
      "source": [
        "## načtení knihoven, definice flastních fcí"
      ],
      "metadata": {
        "id": "szSDrEiCV5y2"
      }
    },
    {
      "cell_type": "code",
      "source": [
        "# importy balicku\n",
        "import inspect\n",
        "import numpy as np\n",
        "import pandas as pd\n",
        "import seaborn as sbn\n",
        "import csv\n",
        "import matplotlib as mpt\n",
        "from matplotlib import pyplot as plt\n",
        "\n",
        "\n",
        "def retrieve_name(var):\n",
        "    callers_local_vars = inspect.currentframe().f_back.f_locals.items()\n",
        "    return [var_name for var_name, var_val in callers_local_vars if var_val is var]\n",
        "\n",
        "\n",
        "examplevarr = 4\n",
        "print(examplevarr)\n",
        "print(retrieve_name(examplevarr))\n",
        "\n",
        "\n",
        "plt.figure(figsize=(8,6))"
      ],
      "metadata": {
        "colab": {
          "base_uri": "https://localhost:8080/",
          "height": 91
        },
        "id": "Gjwi5d-zV_oH",
        "outputId": "36a9d0ba-bd7c-4d5e-ac6e-0ae7ba3e32a1"
      },
      "execution_count": 1,
      "outputs": [
        {
          "output_type": "stream",
          "name": "stdout",
          "text": [
            "4\n",
            "['examplevarr']\n"
          ]
        },
        {
          "output_type": "execute_result",
          "data": {
            "text/plain": [
              "<Figure size 576x432 with 0 Axes>"
            ]
          },
          "metadata": {},
          "execution_count": 1
        },
        {
          "output_type": "display_data",
          "data": {
            "text/plain": [
              "<Figure size 576x432 with 0 Axes>"
            ]
          },
          "metadata": {}
        }
      ]
    },
    {
      "cell_type": "markdown",
      "source": [
        "## nahrání datasetu\n",
        "dataset snažen z https://r-data.pmagunia.com/dataset/r-dataset-package-mosaicdata-saratogahouses\n",
        "\n",
        "Načten do notebooku pomocí kopie na GitHubu"
      ],
      "metadata": {
        "id": "JQ26Jul3U2C2"
      }
    },
    {
      "cell_type": "code",
      "execution_count": 2,
      "metadata": {
        "id": "bbKW2lvZUCeU",
        "colab": {
          "base_uri": "https://localhost:8080/",
          "height": 557
        },
        "outputId": "caf87404-e541-491f-c64e-c457dbd4aa1b"
      },
      "outputs": [
        {
          "output_type": "execute_result",
          "data": {
            "text/plain": [
              "       price  lotSize  age  landValue  livingArea  pctCollege  bedrooms  \\\n",
              "0     132500     0.09   42      50000         906          35         2   \n",
              "1     181115     0.92    0      22300        1953          51         3   \n",
              "2     109000     0.19  133       7300        1944          51         4   \n",
              "3     155000     0.41   13      18700        1944          51         3   \n",
              "4      86060     0.11    0      15000         840          51         2   \n",
              "...      ...      ...  ...        ...         ...         ...       ...   \n",
              "1723  289000     0.38   32      24200        2310          61         5   \n",
              "1724  285000     0.94   37      36200        2564          61         4   \n",
              "1725  194900     0.39    9      20400        1099          51         2   \n",
              "1726  125000     0.24   48      16800        1225          51         3   \n",
              "1727  111300     0.59   86      26000        1959          51         3   \n",
              "\n",
              "      fireplaces  bathrooms  rooms          heating      fuel  \\\n",
              "0              1        1.0      5         electric  electric   \n",
              "1              0        2.5      6  hot water/steam       gas   \n",
              "2              1        1.0      8  hot water/steam       gas   \n",
              "3              1        1.5      5          hot air       gas   \n",
              "4              0        1.0      3          hot air       gas   \n",
              "...          ...        ...    ...              ...       ...   \n",
              "1723           1        2.5     11  hot water/steam       gas   \n",
              "1724           1        2.5     11  hot water/steam       gas   \n",
              "1725           0        1.0      3          hot air       gas   \n",
              "1726           1        1.0      7          hot air       gas   \n",
              "1727           0        1.0      6          hot air       gas   \n",
              "\n",
              "                  sewer waterfront newConstruction centralAir  \n",
              "0                septic         No              No         No  \n",
              "1                septic         No              No         No  \n",
              "2     public/commercial         No              No         No  \n",
              "3                septic         No              No         No  \n",
              "4     public/commercial         No             Yes        Yes  \n",
              "...                 ...        ...             ...        ...  \n",
              "1723  public/commercial         No              No         No  \n",
              "1724  public/commercial         No              No         No  \n",
              "1725  public/commercial         No              No         No  \n",
              "1726  public/commercial         No              No         No  \n",
              "1727             septic         No              No         No  \n",
              "\n",
              "[1728 rows x 16 columns]"
            ],
            "text/html": [
              "\n",
              "  <div id=\"df-14002ea4-ac36-43d6-8bdc-9d1c4c879b08\">\n",
              "    <div class=\"colab-df-container\">\n",
              "      <div>\n",
              "<style scoped>\n",
              "    .dataframe tbody tr th:only-of-type {\n",
              "        vertical-align: middle;\n",
              "    }\n",
              "\n",
              "    .dataframe tbody tr th {\n",
              "        vertical-align: top;\n",
              "    }\n",
              "\n",
              "    .dataframe thead th {\n",
              "        text-align: right;\n",
              "    }\n",
              "</style>\n",
              "<table border=\"1\" class=\"dataframe\">\n",
              "  <thead>\n",
              "    <tr style=\"text-align: right;\">\n",
              "      <th></th>\n",
              "      <th>price</th>\n",
              "      <th>lotSize</th>\n",
              "      <th>age</th>\n",
              "      <th>landValue</th>\n",
              "      <th>livingArea</th>\n",
              "      <th>pctCollege</th>\n",
              "      <th>bedrooms</th>\n",
              "      <th>fireplaces</th>\n",
              "      <th>bathrooms</th>\n",
              "      <th>rooms</th>\n",
              "      <th>heating</th>\n",
              "      <th>fuel</th>\n",
              "      <th>sewer</th>\n",
              "      <th>waterfront</th>\n",
              "      <th>newConstruction</th>\n",
              "      <th>centralAir</th>\n",
              "    </tr>\n",
              "  </thead>\n",
              "  <tbody>\n",
              "    <tr>\n",
              "      <th>0</th>\n",
              "      <td>132500</td>\n",
              "      <td>0.09</td>\n",
              "      <td>42</td>\n",
              "      <td>50000</td>\n",
              "      <td>906</td>\n",
              "      <td>35</td>\n",
              "      <td>2</td>\n",
              "      <td>1</td>\n",
              "      <td>1.0</td>\n",
              "      <td>5</td>\n",
              "      <td>electric</td>\n",
              "      <td>electric</td>\n",
              "      <td>septic</td>\n",
              "      <td>No</td>\n",
              "      <td>No</td>\n",
              "      <td>No</td>\n",
              "    </tr>\n",
              "    <tr>\n",
              "      <th>1</th>\n",
              "      <td>181115</td>\n",
              "      <td>0.92</td>\n",
              "      <td>0</td>\n",
              "      <td>22300</td>\n",
              "      <td>1953</td>\n",
              "      <td>51</td>\n",
              "      <td>3</td>\n",
              "      <td>0</td>\n",
              "      <td>2.5</td>\n",
              "      <td>6</td>\n",
              "      <td>hot water/steam</td>\n",
              "      <td>gas</td>\n",
              "      <td>septic</td>\n",
              "      <td>No</td>\n",
              "      <td>No</td>\n",
              "      <td>No</td>\n",
              "    </tr>\n",
              "    <tr>\n",
              "      <th>2</th>\n",
              "      <td>109000</td>\n",
              "      <td>0.19</td>\n",
              "      <td>133</td>\n",
              "      <td>7300</td>\n",
              "      <td>1944</td>\n",
              "      <td>51</td>\n",
              "      <td>4</td>\n",
              "      <td>1</td>\n",
              "      <td>1.0</td>\n",
              "      <td>8</td>\n",
              "      <td>hot water/steam</td>\n",
              "      <td>gas</td>\n",
              "      <td>public/commercial</td>\n",
              "      <td>No</td>\n",
              "      <td>No</td>\n",
              "      <td>No</td>\n",
              "    </tr>\n",
              "    <tr>\n",
              "      <th>3</th>\n",
              "      <td>155000</td>\n",
              "      <td>0.41</td>\n",
              "      <td>13</td>\n",
              "      <td>18700</td>\n",
              "      <td>1944</td>\n",
              "      <td>51</td>\n",
              "      <td>3</td>\n",
              "      <td>1</td>\n",
              "      <td>1.5</td>\n",
              "      <td>5</td>\n",
              "      <td>hot air</td>\n",
              "      <td>gas</td>\n",
              "      <td>septic</td>\n",
              "      <td>No</td>\n",
              "      <td>No</td>\n",
              "      <td>No</td>\n",
              "    </tr>\n",
              "    <tr>\n",
              "      <th>4</th>\n",
              "      <td>86060</td>\n",
              "      <td>0.11</td>\n",
              "      <td>0</td>\n",
              "      <td>15000</td>\n",
              "      <td>840</td>\n",
              "      <td>51</td>\n",
              "      <td>2</td>\n",
              "      <td>0</td>\n",
              "      <td>1.0</td>\n",
              "      <td>3</td>\n",
              "      <td>hot air</td>\n",
              "      <td>gas</td>\n",
              "      <td>public/commercial</td>\n",
              "      <td>No</td>\n",
              "      <td>Yes</td>\n",
              "      <td>Yes</td>\n",
              "    </tr>\n",
              "    <tr>\n",
              "      <th>...</th>\n",
              "      <td>...</td>\n",
              "      <td>...</td>\n",
              "      <td>...</td>\n",
              "      <td>...</td>\n",
              "      <td>...</td>\n",
              "      <td>...</td>\n",
              "      <td>...</td>\n",
              "      <td>...</td>\n",
              "      <td>...</td>\n",
              "      <td>...</td>\n",
              "      <td>...</td>\n",
              "      <td>...</td>\n",
              "      <td>...</td>\n",
              "      <td>...</td>\n",
              "      <td>...</td>\n",
              "      <td>...</td>\n",
              "    </tr>\n",
              "    <tr>\n",
              "      <th>1723</th>\n",
              "      <td>289000</td>\n",
              "      <td>0.38</td>\n",
              "      <td>32</td>\n",
              "      <td>24200</td>\n",
              "      <td>2310</td>\n",
              "      <td>61</td>\n",
              "      <td>5</td>\n",
              "      <td>1</td>\n",
              "      <td>2.5</td>\n",
              "      <td>11</td>\n",
              "      <td>hot water/steam</td>\n",
              "      <td>gas</td>\n",
              "      <td>public/commercial</td>\n",
              "      <td>No</td>\n",
              "      <td>No</td>\n",
              "      <td>No</td>\n",
              "    </tr>\n",
              "    <tr>\n",
              "      <th>1724</th>\n",
              "      <td>285000</td>\n",
              "      <td>0.94</td>\n",
              "      <td>37</td>\n",
              "      <td>36200</td>\n",
              "      <td>2564</td>\n",
              "      <td>61</td>\n",
              "      <td>4</td>\n",
              "      <td>1</td>\n",
              "      <td>2.5</td>\n",
              "      <td>11</td>\n",
              "      <td>hot water/steam</td>\n",
              "      <td>gas</td>\n",
              "      <td>public/commercial</td>\n",
              "      <td>No</td>\n",
              "      <td>No</td>\n",
              "      <td>No</td>\n",
              "    </tr>\n",
              "    <tr>\n",
              "      <th>1725</th>\n",
              "      <td>194900</td>\n",
              "      <td>0.39</td>\n",
              "      <td>9</td>\n",
              "      <td>20400</td>\n",
              "      <td>1099</td>\n",
              "      <td>51</td>\n",
              "      <td>2</td>\n",
              "      <td>0</td>\n",
              "      <td>1.0</td>\n",
              "      <td>3</td>\n",
              "      <td>hot air</td>\n",
              "      <td>gas</td>\n",
              "      <td>public/commercial</td>\n",
              "      <td>No</td>\n",
              "      <td>No</td>\n",
              "      <td>No</td>\n",
              "    </tr>\n",
              "    <tr>\n",
              "      <th>1726</th>\n",
              "      <td>125000</td>\n",
              "      <td>0.24</td>\n",
              "      <td>48</td>\n",
              "      <td>16800</td>\n",
              "      <td>1225</td>\n",
              "      <td>51</td>\n",
              "      <td>3</td>\n",
              "      <td>1</td>\n",
              "      <td>1.0</td>\n",
              "      <td>7</td>\n",
              "      <td>hot air</td>\n",
              "      <td>gas</td>\n",
              "      <td>public/commercial</td>\n",
              "      <td>No</td>\n",
              "      <td>No</td>\n",
              "      <td>No</td>\n",
              "    </tr>\n",
              "    <tr>\n",
              "      <th>1727</th>\n",
              "      <td>111300</td>\n",
              "      <td>0.59</td>\n",
              "      <td>86</td>\n",
              "      <td>26000</td>\n",
              "      <td>1959</td>\n",
              "      <td>51</td>\n",
              "      <td>3</td>\n",
              "      <td>0</td>\n",
              "      <td>1.0</td>\n",
              "      <td>6</td>\n",
              "      <td>hot air</td>\n",
              "      <td>gas</td>\n",
              "      <td>septic</td>\n",
              "      <td>No</td>\n",
              "      <td>No</td>\n",
              "      <td>No</td>\n",
              "    </tr>\n",
              "  </tbody>\n",
              "</table>\n",
              "<p>1728 rows × 16 columns</p>\n",
              "</div>\n",
              "      <button class=\"colab-df-convert\" onclick=\"convertToInteractive('df-14002ea4-ac36-43d6-8bdc-9d1c4c879b08')\"\n",
              "              title=\"Convert this dataframe to an interactive table.\"\n",
              "              style=\"display:none;\">\n",
              "        \n",
              "  <svg xmlns=\"http://www.w3.org/2000/svg\" height=\"24px\"viewBox=\"0 0 24 24\"\n",
              "       width=\"24px\">\n",
              "    <path d=\"M0 0h24v24H0V0z\" fill=\"none\"/>\n",
              "    <path d=\"M18.56 5.44l.94 2.06.94-2.06 2.06-.94-2.06-.94-.94-2.06-.94 2.06-2.06.94zm-11 1L8.5 8.5l.94-2.06 2.06-.94-2.06-.94L8.5 2.5l-.94 2.06-2.06.94zm10 10l.94 2.06.94-2.06 2.06-.94-2.06-.94-.94-2.06-.94 2.06-2.06.94z\"/><path d=\"M17.41 7.96l-1.37-1.37c-.4-.4-.92-.59-1.43-.59-.52 0-1.04.2-1.43.59L10.3 9.45l-7.72 7.72c-.78.78-.78 2.05 0 2.83L4 21.41c.39.39.9.59 1.41.59.51 0 1.02-.2 1.41-.59l7.78-7.78 2.81-2.81c.8-.78.8-2.07 0-2.86zM5.41 20L4 18.59l7.72-7.72 1.47 1.35L5.41 20z\"/>\n",
              "  </svg>\n",
              "      </button>\n",
              "      \n",
              "  <style>\n",
              "    .colab-df-container {\n",
              "      display:flex;\n",
              "      flex-wrap:wrap;\n",
              "      gap: 12px;\n",
              "    }\n",
              "\n",
              "    .colab-df-convert {\n",
              "      background-color: #E8F0FE;\n",
              "      border: none;\n",
              "      border-radius: 50%;\n",
              "      cursor: pointer;\n",
              "      display: none;\n",
              "      fill: #1967D2;\n",
              "      height: 32px;\n",
              "      padding: 0 0 0 0;\n",
              "      width: 32px;\n",
              "    }\n",
              "\n",
              "    .colab-df-convert:hover {\n",
              "      background-color: #E2EBFA;\n",
              "      box-shadow: 0px 1px 2px rgba(60, 64, 67, 0.3), 0px 1px 3px 1px rgba(60, 64, 67, 0.15);\n",
              "      fill: #174EA6;\n",
              "    }\n",
              "\n",
              "    [theme=dark] .colab-df-convert {\n",
              "      background-color: #3B4455;\n",
              "      fill: #D2E3FC;\n",
              "    }\n",
              "\n",
              "    [theme=dark] .colab-df-convert:hover {\n",
              "      background-color: #434B5C;\n",
              "      box-shadow: 0px 1px 3px 1px rgba(0, 0, 0, 0.15);\n",
              "      filter: drop-shadow(0px 1px 2px rgba(0, 0, 0, 0.3));\n",
              "      fill: #FFFFFF;\n",
              "    }\n",
              "  </style>\n",
              "\n",
              "      <script>\n",
              "        const buttonEl =\n",
              "          document.querySelector('#df-14002ea4-ac36-43d6-8bdc-9d1c4c879b08 button.colab-df-convert');\n",
              "        buttonEl.style.display =\n",
              "          google.colab.kernel.accessAllowed ? 'block' : 'none';\n",
              "\n",
              "        async function convertToInteractive(key) {\n",
              "          const element = document.querySelector('#df-14002ea4-ac36-43d6-8bdc-9d1c4c879b08');\n",
              "          const dataTable =\n",
              "            await google.colab.kernel.invokeFunction('convertToInteractive',\n",
              "                                                     [key], {});\n",
              "          if (!dataTable) return;\n",
              "\n",
              "          const docLinkHtml = 'Like what you see? Visit the ' +\n",
              "            '<a target=\"_blank\" href=https://colab.research.google.com/notebooks/data_table.ipynb>data table notebook</a>'\n",
              "            + ' to learn more about interactive tables.';\n",
              "          element.innerHTML = '';\n",
              "          dataTable['output_type'] = 'display_data';\n",
              "          await google.colab.output.renderOutput(dataTable, element);\n",
              "          const docLink = document.createElement('div');\n",
              "          docLink.innerHTML = docLinkHtml;\n",
              "          element.appendChild(docLink);\n",
              "        }\n",
              "      </script>\n",
              "    </div>\n",
              "  </div>\n",
              "  "
            ]
          },
          "metadata": {},
          "execution_count": 2
        }
      ],
      "source": [
        "# import datasetu (pomoci Pandas)\n",
        "# (puvodne dataset byl stazen z >>  https://r-data.pmagunia.com/dataset/r-dataset-package-mosaicdata-saratogahouses  )\n",
        "url = \"https://raw.githubusercontent.com/aleksejalex/expert-octo-eureka/main/dataset_saratoga_houses_from_R.csv\"\n",
        "data = pd.read_csv(url)\n",
        "\n",
        "data\n",
        "#data.info"
      ]
    },
    {
      "cell_type": "markdown",
      "source": [
        "## popis dat:\n",
        "\n",
        "A data frame with 1728 observations on the following 16 variables.\n",
        "\n",
        "* `price` price (1000s of US dollars)\n",
        "\n",
        "* `lotSize` size of lot (square feet)\n",
        "\n",
        "* `age` age of house (years)\n",
        "\n",
        "* `landValue` value of land (1000s of US dollars)\n",
        "\n",
        "* `livingArea` living are (square feet)\n",
        "\n",
        "* `pctCollege` percent of neighborhood that graduated college\n",
        "\n",
        "* `bedrooms` number of bedrooms\n",
        "\n",
        "* `firplaces` number of fireplaces\n",
        "\n",
        "* `bathrooms` number of bathrooms (half bathrooms have no shower or tub)\n",
        "\n",
        "* `rooms` number of rooms\n",
        "\n",
        "* `heating` type of heating system\n",
        "\n",
        "* `fuel` fuel used for heating\n",
        "\n",
        "* `sewer` type of sewer system\n",
        "\n",
        "* `waterfront` whether property includes waterfront\n",
        "\n",
        "* `newConstruction` whether the property is a new construction\n",
        "\n",
        "* `centralAir` whether the house has central air\n",
        "\n",
        "Převzato z >>>   https://r-data.pmagunia.com/dataset/r-dataset-package-mosaicdata-saratogahouses"
      ],
      "metadata": {
        "id": "eg_8BxIeat28"
      }
    },
    {
      "cell_type": "markdown",
      "source": [
        "## Otázka 01\n",
        "\n",
        "Zjistěte, zdali data neobsahují chybějící hodnoty *NA*. Pokud ano, tak rozhodněte zdali můžete příslušná pozorování z dat odstranit a proč. Které proměnné jsou kvantitativní a které kvalitativní? Jeli možno některé zařadit do obou skupin, pro kterou byste se rozhodli? Které proměnné je možné pužít jako faktorové ordinální a jaké jako faktorové nominální a proč? Spočtěte základní statistiky pro jednotlivé proměnné."
      ],
      "metadata": {
        "id": "-l6vVojVWJTl"
      }
    },
    {
      "cell_type": "code",
      "source": [
        "nan_in_data = data.isnull().sum().sum()\n",
        "\n",
        "print('Number of NaN values in dataframe: ' + str(nan_in_data))\n"
      ],
      "metadata": {
        "colab": {
          "base_uri": "https://localhost:8080/"
        },
        "id": "Ay38sFmkUgDZ",
        "outputId": "2baffdd0-6d2f-44af-9e37-8ea7d5990bc4"
      },
      "execution_count": 3,
      "outputs": [
        {
          "output_type": "stream",
          "name": "stdout",
          "text": [
            "Number of NaN values in dataframe: 0\n"
          ]
        }
      ]
    },
    {
      "cell_type": "code",
      "source": [
        "# totez lze videt z \n",
        "print(data.info())"
      ],
      "metadata": {
        "colab": {
          "base_uri": "https://localhost:8080/"
        },
        "id": "Jr24NVj1cl-z",
        "outputId": "dae9491c-b421-479e-d8fd-d5daaa5c3edf"
      },
      "execution_count": 4,
      "outputs": [
        {
          "output_type": "stream",
          "name": "stdout",
          "text": [
            "<class 'pandas.core.frame.DataFrame'>\n",
            "RangeIndex: 1728 entries, 0 to 1727\n",
            "Data columns (total 16 columns):\n",
            " #   Column           Non-Null Count  Dtype  \n",
            "---  ------           --------------  -----  \n",
            " 0   price            1728 non-null   int64  \n",
            " 1   lotSize          1728 non-null   float64\n",
            " 2   age              1728 non-null   int64  \n",
            " 3   landValue        1728 non-null   int64  \n",
            " 4   livingArea       1728 non-null   int64  \n",
            " 5   pctCollege       1728 non-null   int64  \n",
            " 6   bedrooms         1728 non-null   int64  \n",
            " 7   fireplaces       1728 non-null   int64  \n",
            " 8   bathrooms        1728 non-null   float64\n",
            " 9   rooms            1728 non-null   int64  \n",
            " 10  heating          1728 non-null   object \n",
            " 11  fuel             1728 non-null   object \n",
            " 12  sewer            1728 non-null   object \n",
            " 13  waterfront       1728 non-null   object \n",
            " 14  newConstruction  1728 non-null   object \n",
            " 15  centralAir       1728 non-null   object \n",
            "dtypes: float64(2), int64(8), object(6)\n",
            "memory usage: 216.1+ KB\n",
            "None\n"
          ]
        }
      ]
    },
    {
      "cell_type": "markdown",
      "source": [
        "\n",
        "Kvalitativní proměnné: \\\\\n",
        "`heating` \\\\\n",
        "`fuel` \\\\\n",
        "`sewer` \\\\\n",
        "`waterfront` \\\\\n",
        "`newConstruction` \\\\\n",
        "`centralAir` \\\\\n",
        "\n",
        "Kvantitativní proměnné: \\\\\n",
        "`price` \\\\\n",
        "`lotSize` \\\\\n",
        "`age` \\\\\n",
        "`landValue` \\\\\n",
        "`livingArea` \\\\\n",
        "`pctCollege` \\\\\n",
        "\n",
        "\"Obojetné\" proměnné: \\\\\n",
        "`bedrooms` \\\\\n",
        "`fireplaces` \\\\\n",
        "`bathrooms` \\\\\n",
        "`rooms` \\\\\n",
        "\n",
        "\n",
        "\n",
        "\n",
        "\n",
        "\n"
      ],
      "metadata": {
        "id": "X5lm-Al7ZYLF"
      }
    },
    {
      "cell_type": "markdown",
      "source": [
        "### Základní statistiky"
      ],
      "metadata": {
        "id": "iuzRFo3-cEx-"
      }
    },
    {
      "cell_type": "code",
      "source": [
        "print(data.describe())"
      ],
      "metadata": {
        "colab": {
          "base_uri": "https://localhost:8080/"
        },
        "id": "biFCIqcqZYzC",
        "outputId": "c78f235d-ccdf-4fbe-b36d-5ff2960d7ee7"
      },
      "execution_count": 6,
      "outputs": [
        {
          "output_type": "stream",
          "name": "stdout",
          "text": [
            "               price      lotSize          age      landValue   livingArea  \\\n",
            "count    1728.000000  1728.000000  1728.000000    1728.000000  1728.000000   \n",
            "mean   211966.705440     0.500214    27.916088   34557.187500  1754.975694   \n",
            "std     98441.391015     0.698680    29.209988   35021.168056   619.935553   \n",
            "min      5000.000000     0.000000     0.000000     200.000000   616.000000   \n",
            "25%    145000.000000     0.170000    13.000000   15100.000000  1300.000000   \n",
            "50%    189900.000000     0.370000    19.000000   25000.000000  1634.500000   \n",
            "75%    259000.000000     0.540000    34.000000   40200.000000  2137.750000   \n",
            "max    775000.000000    12.200000   225.000000  412600.000000  5228.000000   \n",
            "\n",
            "        pctCollege     bedrooms   fireplaces    bathrooms        rooms  \n",
            "count  1728.000000  1728.000000  1728.000000  1728.000000  1728.000000  \n",
            "mean     55.567708     3.154514     0.601852     1.900174     7.041667  \n",
            "std      10.333581     0.817351     0.556102     0.658352     2.316453  \n",
            "min      20.000000     1.000000     0.000000     0.000000     2.000000  \n",
            "25%      52.000000     3.000000     0.000000     1.500000     5.000000  \n",
            "50%      57.000000     3.000000     1.000000     2.000000     7.000000  \n",
            "75%      64.000000     4.000000     1.000000     2.500000     8.250000  \n",
            "max      82.000000     7.000000     4.000000     4.500000    12.000000  \n"
          ]
        }
      ]
    },
    {
      "cell_type": "markdown",
      "source": [
        "## Otázka 02\n",
        "\n",
        "Chceme koupit nemovitost v zahraničí a průzkumem trhu jsme obdřeli předchozí data set *saratoga_houses*. Jelikož ale máme přesnější požadavky a nerozumíme imperiálním jednotkám, potřebujeme data upravit:\n",
        "\n",
        "* Převeďte cenu nemovitostí z dolarů na koruny v tisících a plochu pozemku a obytnou plochu z akrů a čtverečích stop na $m^2$. (chceck describtion by *? saratoga_houses*) \n",
        "* Vyberte jen nemovitosti starší 10 let a mladší 50 let, jejichž cena je menší než 7500000 Kč, a plocha pozemku je mezi 500 a 5000 $m^2$.\n",
        "* Počet koupelen a počet pokojů převeďte na faktorové proměnné o 3 úrovních."
      ],
      "metadata": {
        "id": "TanH9zDnWSrP"
      }
    },
    {
      "cell_type": "markdown",
      "source": [
        "**Dále pracujte jen s takto omezeným datasetem a s proměnnýma *cena*, *plocha_obytna*, *plocha_pozemku* *pocet_pokoju*,*stari_domu*, *pocet_koupelen*, *krb*.**"
      ],
      "metadata": {
        "id": "mViB1w9zWeYE"
      }
    },
    {
      "cell_type": "code",
      "source": [
        "data_cz = pd.DataFrame()\n",
        "data_cz['cena'] = data.price * 24.96     # kurz k 20221019, ceny byly v tisicich uz v USD\n",
        "data_cz['plocha_pozemku'] = data.lotSize * 0.09290304  # square ft to m2\n",
        "data_cz['plocha_obytna'] = data.livingArea * 0.09290304  # square ft to m2\n",
        "data_cz['pocet_pokoju'] = data.bedrooms\n",
        "data_cz['stari_domu'] = data.age\n",
        "data_cz['pocet_koupelen'] = data.bathrooms\n",
        "data_cz['krb'] = data.fireplaces\n",
        "\n",
        "print(data_cz)\n",
        "\n"
      ],
      "metadata": {
        "colab": {
          "base_uri": "https://localhost:8080/"
        },
        "id": "K-ap0VTfWQEe",
        "outputId": "32df6dbc-7f24-4a7d-d624-249c445ed9cd"
      },
      "execution_count": 7,
      "outputs": [
        {
          "output_type": "stream",
          "name": "stdout",
          "text": [
            "           cena  plocha_pozemku  plocha_obytna  pocet_pokoju  stari_domu  \\\n",
            "0     3307200.0        0.008361      84.170154             2          42   \n",
            "1     4520630.4        0.085471     181.439637             3           0   \n",
            "2     2720640.0        0.017652     180.603510             4         133   \n",
            "3     3868800.0        0.038090     180.603510             3          13   \n",
            "4     2148057.6        0.010219      78.038554             2           0   \n",
            "...         ...             ...            ...           ...         ...   \n",
            "1723  7213440.0        0.035303     214.606022             5          32   \n",
            "1724  7113600.0        0.087329     238.203395             4          37   \n",
            "1725  4864704.0        0.036232     102.100441             2           9   \n",
            "1726  3120000.0        0.022297     113.806224             3          48   \n",
            "1727  2778048.0        0.054813     181.997055             3          86   \n",
            "\n",
            "      pocet_koupelen  krb  \n",
            "0                1.0    1  \n",
            "1                2.5    0  \n",
            "2                1.0    1  \n",
            "3                1.5    1  \n",
            "4                1.0    0  \n",
            "...              ...  ...  \n",
            "1723             2.5    1  \n",
            "1724             2.5    1  \n",
            "1725             1.0    0  \n",
            "1726             1.0    1  \n",
            "1727             1.0    0  \n",
            "\n",
            "[1728 rows x 7 columns]\n"
          ]
        }
      ]
    },
    {
      "cell_type": "markdown",
      "source": [
        "## Otázka 03 \n",
        "\n",
        "* Porovnejte průměry cen nemovitostí s krbem a bez krbu a otestujte, zdali na hladině významnosti $\\alpha = 0.01$ je průměrná cena nemovitostí s krbem větší než průměrná cena nemovitostí bez krbu."
      ],
      "metadata": {
        "id": "iiqt3hUQWTcJ"
      }
    },
    {
      "cell_type": "code",
      "source": [],
      "metadata": {
        "id": "WkKeQuR5UgZT"
      },
      "execution_count": null,
      "outputs": []
    },
    {
      "cell_type": "markdown",
      "source": [
        "# Vizualizace dat\n",
        "\n",
        "## Otázka 04 \n",
        "\n",
        "* Vykreslete scatterploty pro všechny numerické proměnné, kde bude barevně rozlišeno, zdali se jedná o nemovitost s krbem, nebo bez krbu.\n",
        "*  Pro proměnné *pocet_pokoju* a *pocet_pater* a *sklep* vykreslete krabicové diagramy (nebo violin ploty), kde odezvou bude *cena*.\n",
        "* Pro proměnnou *cena* vykreslete histogram spolu s jádrovým odhadem hustoty.\n"
      ],
      "metadata": {
        "id": "aPwH42nZWX2p"
      }
    },
    {
      "cell_type": "code",
      "source": [
        "# tj. pro kazdou numerickou promennou jeden scatterplot se dvemi ploty: zelene bez krbu, cervene s krbem\n",
        "\n",
        "plt.figure(figsize=(800,600))\n",
        "plt.plot(np.array([1,2,3]), np.array([1,2,3]),'r*')\n",
        "plt.plot(np.array([2,2,3]), np.array([3,2,1]),'g*')\n",
        "plt.show()\n",
        "\n",
        "plt.figure(figsize=(8,6))\n",
        "plt.plot(np.array([1,2,3]), np.array([1,2,3]),'r*')\n",
        "plt.plot(np.array([2,2,3]), np.array([3,2,1]),'g*')\n",
        "plt.show()\n"
      ],
      "metadata": {
        "id": "9pe_nCSIUgrA"
      },
      "execution_count": null,
      "outputs": []
    },
    {
      "cell_type": "markdown",
      "source": [
        "## Otázka 05\n",
        "\n",
        "Pro kombinace faktorizovaných proměnných *pocet_pokoju*, *pocet_koupelen*  vykreslete cenu nemovitosti, aby bylo na obrázku vidět, jestli se v průměru liší ceny nemovitostí majících více pokojů, nebo více koupelen a zdali jsou zastoupeny všechny kombiance všech úrovních pro dvě zmíněné faktorové proměnné."
      ],
      "metadata": {
        "id": "W2df_hDyWYwN"
      }
    },
    {
      "cell_type": "code",
      "source": [],
      "metadata": {
        "id": "tk0c6DvwWQ_J"
      },
      "execution_count": null,
      "outputs": []
    },
    {
      "cell_type": "markdown",
      "metadata": {
        "lines_to_next_cell": 0,
        "id": "37583820"
      },
      "source": [
        "## Otázka 06\n",
        "\n",
        "Pro nemovitosti s dvěma ložnicema vykreslete závislost ceny na obytné ploše nemovitosti, kde jednotlivé události označíte barvou podle toho zdali mají krb a velikost bodů v grafu bude odpovídat počtu koupelen (pro tuto úlohu je lepší vzít počet koupelen jako numerickou proměnnou)."
      ]
    },
    {
      "cell_type": "markdown",
      "source": [
        "**Dále pracujte jen s nemovitostmi se dvěma ložnicemi.**"
      ],
      "metadata": {
        "id": "ebaQtBBORiig"
      }
    },
    {
      "cell_type": "code",
      "source": [],
      "metadata": {
        "id": "6wYZhxODWQ39"
      },
      "execution_count": null,
      "outputs": []
    },
    {
      "cell_type": "markdown",
      "metadata": {
        "id": "51fc7cc4"
      },
      "source": [
        "# Jednoduchý lineární model"
      ]
    },
    {
      "cell_type": "markdown",
      "metadata": {
        "lines_to_next_cell": 0,
        "id": "354a8344"
      },
      "source": [
        "## Otázka 07\n",
        "\n",
        "Sestavte jednoduchý regresní model (s i bez interceptu), kde vysvětlovaná proměnná\n",
        "bude cena nemovitosti a vysvětlující obytná plocha.   Spočtěte pro oba modely $R^2$ a $F$ statistiky, co nám o modelech říkají. Vyberte jeden z nich a zdůvodněte proč ho preferujete.\n",
        "\n",
        "Na základě zvoleného modelu odpovězte, zdali cena nemovitosti závisí na obytné ploše  a pokud ano, o kolik se změní očekávaná cena pro nemovitost s obytnou plochou zvětšenou o $20 m^2$? "
      ]
    },
    {
      "cell_type": "code",
      "source": [],
      "metadata": {
        "id": "WCCPe0uMMaJb"
      },
      "execution_count": null,
      "outputs": []
    },
    {
      "cell_type": "markdown",
      "metadata": {
        "id": "5ac2ca23"
      },
      "source": [
        "## Otázka 08\n",
        "Sestavte jednoduchý linární model jako v předchozí otázce pro nemovitosti s krbem a bez krbu. Jaký model vykazuje silnější linearní vztah mezi cenou a obytnou plochou? O kolik cena s rostoucí obytnou plochou pro nemovitosti s krbem roste rychleji než pro nemovitosti bez krbu?\n",
        "\n",
        "Spočtěte 95% konfidenční intervaly pro regresní koeficienty popisující sklon regresní přímky v obou modelech a zjistěte, zdali se protínají. Co z toho můžeme vyvozovat?\n",
        "\n",
        "Na základě těchto modelů zjistěte o kolik procent bude mít průměrná nemovitost s krbem a obytnou plochou $160m^2$ vyšší očekávanou cenu než průměrná nemovitost o stejné obytné ploše, ale bez krbu."
      ]
    },
    {
      "cell_type": "code",
      "source": [],
      "metadata": {
        "id": "ktbkaD7sX0pz"
      },
      "execution_count": null,
      "outputs": []
    },
    {
      "cell_type": "markdown",
      "metadata": {
        "lines_to_next_cell": 0,
        "id": "11ed78d7"
      },
      "source": [
        "## Otázka 09\n",
        "\n",
        "Vykreslete scatterplot obytné plochy a ceny nemovitostí. Do tohoto grafu vykreslete regresní přímky vybraných modelů pro nemovitosti s krbem a bez něho, jednoltivé body i regresní přímky označte barvou podle toho k jaké skupině přísluší.\n",
        "\n",
        "Sestrojte 90% konfidenční intervaly okolo očekávaných cen pro jednoltivé skupiny a na jejich základě rozhodněte, zdali a jak se očekávané ceny budou lišit pro nemovitosti s obytnou plochou menší než $120m^2$. Je to porovnávání správné? Zdůvoněte."
      ]
    },
    {
      "cell_type": "code",
      "source": [],
      "metadata": {
        "id": "vSrSibdxX0Gp"
      },
      "execution_count": null,
      "outputs": []
    },
    {
      "cell_type": "markdown",
      "metadata": {
        "lines_to_next_cell": 0,
        "id": "bfeecac9"
      },
      "source": [
        "## Otázka 10\n",
        "\n",
        "Vykreslete histogramy pro rezidua modelů z předchozí otázky. Proložte je hustotou normálního rozdělení s nulovou střední hodnotou a rozptylem odpovídajícím $\\hat{\\sigma}^2$ z jednotlivých modelů.\n",
        "\n",
        "Co výsledný graf říka o n našich modelech a je toto ověření dostatečné pro validaci model?\n",
        "\n",
        "Navrněte další úpravy modelu za cílem co nejlépe predikvoat cenu nemovitosti."
      ]
    },
    {
      "cell_type": "code",
      "source": [],
      "metadata": {
        "id": "tuIlMKCtWQ0E"
      },
      "execution_count": null,
      "outputs": []
    },
    {
      "cell_type": "markdown",
      "source": [],
      "metadata": {
        "id": "yGdQmTjyWs7B"
      }
    },
    {
      "cell_type": "code",
      "source": [],
      "metadata": {
        "id": "In-1vUAiWQu0"
      },
      "execution_count": null,
      "outputs": []
    },
    {
      "cell_type": "markdown",
      "source": [],
      "metadata": {
        "id": "XUF4oopuWtYc"
      }
    },
    {
      "cell_type": "code",
      "source": [],
      "metadata": {
        "id": "WnM7ec_YWQlE"
      },
      "execution_count": null,
      "outputs": []
    },
    {
      "cell_type": "markdown",
      "source": [],
      "metadata": {
        "id": "WuYamYPtWtz5"
      }
    },
    {
      "cell_type": "code",
      "source": [],
      "metadata": {
        "id": "IWaAnqcDWuKF"
      },
      "execution_count": null,
      "outputs": []
    },
    {
      "cell_type": "code",
      "source": [],
      "metadata": {
        "id": "87nf7AmdWvCE"
      },
      "execution_count": null,
      "outputs": []
    },
    {
      "cell_type": "code",
      "source": [],
      "metadata": {
        "id": "paeFw0gwWu_C"
      },
      "execution_count": null,
      "outputs": []
    },
    {
      "cell_type": "code",
      "source": [],
      "metadata": {
        "id": "223KZEwgWu8P"
      },
      "execution_count": null,
      "outputs": []
    },
    {
      "cell_type": "code",
      "source": [],
      "metadata": {
        "id": "0ZwPokFkWu5G"
      },
      "execution_count": null,
      "outputs": []
    },
    {
      "cell_type": "code",
      "source": [
        "pltbox = data.boxplot()\n",
        "pltbox.show()"
      ],
      "metadata": {
        "colab": {
          "base_uri": "https://localhost:8080/",
          "height": 190
        },
        "id": "mceSTgD6Wu18",
        "outputId": "3136109e-9580-4158-c7e7-48e296ccf2de"
      },
      "execution_count": 1,
      "outputs": [
        {
          "output_type": "error",
          "ename": "NameError",
          "evalue": "ignored",
          "traceback": [
            "\u001b[0;31m---------------------------------------------------------------------------\u001b[0m",
            "\u001b[0;31mNameError\u001b[0m                                 Traceback (most recent call last)",
            "\u001b[0;32m<ipython-input-1-da066e4c1b5c>\u001b[0m in \u001b[0;36m<module>\u001b[0;34m\u001b[0m\n\u001b[0;32m----> 1\u001b[0;31m \u001b[0mpltbox\u001b[0m \u001b[0;34m=\u001b[0m \u001b[0mdata\u001b[0m\u001b[0;34m.\u001b[0m\u001b[0mboxplot\u001b[0m\u001b[0;34m(\u001b[0m\u001b[0;34m)\u001b[0m\u001b[0;34m\u001b[0m\u001b[0;34m\u001b[0m\u001b[0m\n\u001b[0m\u001b[1;32m      2\u001b[0m \u001b[0mpltbox\u001b[0m\u001b[0;34m.\u001b[0m\u001b[0mshow\u001b[0m\u001b[0;34m(\u001b[0m\u001b[0;34m)\u001b[0m\u001b[0;34m\u001b[0m\u001b[0;34m\u001b[0m\u001b[0m\n",
            "\u001b[0;31mNameError\u001b[0m: name 'data' is not defined"
          ]
        }
      ]
    },
    {
      "cell_type": "code",
      "source": [],
      "metadata": {
        "id": "SS3sy_p7Wuxr"
      },
      "execution_count": null,
      "outputs": []
    },
    {
      "cell_type": "code",
      "source": [
        "#@title\n"
      ],
      "metadata": {
        "cellView": "form",
        "id": "qRyxPN8qWuue"
      },
      "execution_count": null,
      "outputs": []
    }
  ]
}