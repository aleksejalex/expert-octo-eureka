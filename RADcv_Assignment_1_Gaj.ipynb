{
  "nbformat": 4,
  "nbformat_minor": 0,
  "metadata": {
    "colab": {
      "provenance": [],
      "history_visible": true,
      "authorship_tag": "ABX9TyMcr8SY7z3yrL8qvT2LjLAz",
      "include_colab_link": true
    },
    "kernelspec": {
      "name": "python3",
      "display_name": "Python 3"
    },
    "language_info": {
      "name": "python"
    }
  },
  "cells": [
    {
      "cell_type": "markdown",
      "metadata": {
        "id": "view-in-github",
        "colab_type": "text"
      },
      "source": [
        "<a href=\"https://colab.research.google.com/github/aleksejalex/expert-octo-eureka/blob/main/RADcv_Assignment_1_Gaj.ipynb\" target=\"_parent\"><img src=\"https://colab.research.google.com/assets/colab-badge.svg\" alt=\"Open In Colab\"/></a>"
      ]
    },
    {
      "cell_type": "markdown",
      "source": [
        "# RADcv - 1. zápočtová úloha\n",
        "Aleksej Gaj\n",
        "(vypracováno v Pythonu)"
      ],
      "metadata": {
        "id": "nqzpTqEFUfk3"
      }
    },
    {
      "cell_type": "markdown",
      "source": [
        "Zadání:\n",
        "\n",
        "## Popis úlohy\n",
        "\n",
        "V tomto úkolu je cílem provést předzpracování datového souboru, jeho vizualizaci a jednoduchou lineární regresní úlohu, kde se budeme zajímat o ceny nemovitostí. Za tímto účelem využijeme datový set *saratosa_hoouses* z knihovny *moderndive* obsahující výběr 1057 domů."
      ],
      "metadata": {
        "id": "45zPcFskUsGE"
      }
    },
    {
      "cell_type": "markdown",
      "source": [
        "## načtení knihoven, definice flastních fcí"
      ],
      "metadata": {
        "id": "szSDrEiCV5y2"
      }
    },
    {
      "cell_type": "code",
      "source": [
        "# updating packages ... NOT NECESSARY\n",
        "!pip install numpy --upgrade\n",
        "!pip install scipy --upgrade\n",
        "!pip install pandas --upgrade\n",
        "!pip install seaborn --upgrade\n",
        "!pip install csv --upgrade\n",
        "!pip install matplotlib --upgrade"
      ],
      "metadata": {
        "colab": {
          "base_uri": "https://localhost:8080/",
          "height": 1000
        },
        "id": "0sCyIkZ0J9r4",
        "outputId": "e5fc691c-3616-4cf0-a762-de8f23ff05e4"
      },
      "execution_count": 2,
      "outputs": [
        {
          "output_type": "stream",
          "name": "stdout",
          "text": [
            "Looking in indexes: https://pypi.org/simple, https://us-python.pkg.dev/colab-wheels/public/simple/\n",
            "Requirement already satisfied: numpy in /usr/local/lib/python3.7/dist-packages (1.21.6)\n",
            "Looking in indexes: https://pypi.org/simple, https://us-python.pkg.dev/colab-wheels/public/simple/\n",
            "Requirement already satisfied: scipy in /usr/local/lib/python3.7/dist-packages (1.7.3)\n",
            "Requirement already satisfied: numpy<1.23.0,>=1.16.5 in /usr/local/lib/python3.7/dist-packages (from scipy) (1.21.6)\n",
            "Looking in indexes: https://pypi.org/simple, https://us-python.pkg.dev/colab-wheels/public/simple/\n",
            "Requirement already satisfied: pandas in /usr/local/lib/python3.7/dist-packages (1.3.5)\n",
            "Requirement already satisfied: numpy>=1.17.3 in /usr/local/lib/python3.7/dist-packages (from pandas) (1.21.6)\n",
            "Requirement already satisfied: pytz>=2017.3 in /usr/local/lib/python3.7/dist-packages (from pandas) (2022.4)\n",
            "Requirement already satisfied: python-dateutil>=2.7.3 in /usr/local/lib/python3.7/dist-packages (from pandas) (2.8.2)\n",
            "Requirement already satisfied: six>=1.5 in /usr/local/lib/python3.7/dist-packages (from python-dateutil>=2.7.3->pandas) (1.15.0)\n",
            "Looking in indexes: https://pypi.org/simple, https://us-python.pkg.dev/colab-wheels/public/simple/\n",
            "Requirement already satisfied: seaborn in /usr/local/lib/python3.7/dist-packages (0.11.2)\n",
            "Collecting seaborn\n",
            "  Downloading seaborn-0.12.1-py3-none-any.whl (288 kB)\n",
            "\u001b[K     |████████████████████████████████| 288 kB 5.1 MB/s \n",
            "\u001b[?25hRequirement already satisfied: typing_extensions in /usr/local/lib/python3.7/dist-packages (from seaborn) (4.1.1)\n",
            "Requirement already satisfied: numpy>=1.17 in /usr/local/lib/python3.7/dist-packages (from seaborn) (1.21.6)\n",
            "Requirement already satisfied: matplotlib!=3.6.1,>=3.1 in /usr/local/lib/python3.7/dist-packages (from seaborn) (3.2.2)\n",
            "Requirement already satisfied: pandas>=0.25 in /usr/local/lib/python3.7/dist-packages (from seaborn) (1.3.5)\n",
            "Requirement already satisfied: kiwisolver>=1.0.1 in /usr/local/lib/python3.7/dist-packages (from matplotlib!=3.6.1,>=3.1->seaborn) (1.4.4)\n",
            "Requirement already satisfied: pyparsing!=2.0.4,!=2.1.2,!=2.1.6,>=2.0.1 in /usr/local/lib/python3.7/dist-packages (from matplotlib!=3.6.1,>=3.1->seaborn) (3.0.9)\n",
            "Requirement already satisfied: cycler>=0.10 in /usr/local/lib/python3.7/dist-packages (from matplotlib!=3.6.1,>=3.1->seaborn) (0.11.0)\n",
            "Requirement already satisfied: python-dateutil>=2.1 in /usr/local/lib/python3.7/dist-packages (from matplotlib!=3.6.1,>=3.1->seaborn) (2.8.2)\n",
            "Requirement already satisfied: pytz>=2017.3 in /usr/local/lib/python3.7/dist-packages (from pandas>=0.25->seaborn) (2022.4)\n",
            "Requirement already satisfied: six>=1.5 in /usr/local/lib/python3.7/dist-packages (from python-dateutil>=2.1->matplotlib!=3.6.1,>=3.1->seaborn) (1.15.0)\n",
            "Installing collected packages: seaborn\n",
            "  Attempting uninstall: seaborn\n",
            "    Found existing installation: seaborn 0.11.2\n",
            "    Uninstalling seaborn-0.11.2:\n",
            "      Successfully uninstalled seaborn-0.11.2\n",
            "Successfully installed seaborn-0.12.1\n",
            "Looking in indexes: https://pypi.org/simple, https://us-python.pkg.dev/colab-wheels/public/simple/\n",
            "\u001b[31mERROR: Could not find a version that satisfies the requirement csv (from versions: none)\u001b[0m\n",
            "\u001b[31mERROR: No matching distribution found for csv\u001b[0m\n",
            "Looking in indexes: https://pypi.org/simple, https://us-python.pkg.dev/colab-wheels/public/simple/\n",
            "Requirement already satisfied: matplotlib in /usr/local/lib/python3.7/dist-packages (3.2.2)\n",
            "Collecting matplotlib\n",
            "  Downloading matplotlib-3.5.3-cp37-cp37m-manylinux_2_5_x86_64.manylinux1_x86_64.whl (11.2 MB)\n",
            "\u001b[K     |████████████████████████████████| 11.2 MB 5.3 MB/s \n",
            "\u001b[?25hCollecting fonttools>=4.22.0\n",
            "  Downloading fonttools-4.38.0-py3-none-any.whl (965 kB)\n",
            "\u001b[K     |████████████████████████████████| 965 kB 53.3 MB/s \n",
            "\u001b[?25hRequirement already satisfied: pillow>=6.2.0 in /usr/local/lib/python3.7/dist-packages (from matplotlib) (7.1.2)\n",
            "Requirement already satisfied: pyparsing>=2.2.1 in /usr/local/lib/python3.7/dist-packages (from matplotlib) (3.0.9)\n",
            "Requirement already satisfied: numpy>=1.17 in /usr/local/lib/python3.7/dist-packages (from matplotlib) (1.21.6)\n",
            "Requirement already satisfied: kiwisolver>=1.0.1 in /usr/local/lib/python3.7/dist-packages (from matplotlib) (1.4.4)\n",
            "Requirement already satisfied: python-dateutil>=2.7 in /usr/local/lib/python3.7/dist-packages (from matplotlib) (2.8.2)\n",
            "Requirement already satisfied: packaging>=20.0 in /usr/local/lib/python3.7/dist-packages (from matplotlib) (21.3)\n",
            "Requirement already satisfied: cycler>=0.10 in /usr/local/lib/python3.7/dist-packages (from matplotlib) (0.11.0)\n",
            "Requirement already satisfied: typing-extensions in /usr/local/lib/python3.7/dist-packages (from kiwisolver>=1.0.1->matplotlib) (4.1.1)\n",
            "Requirement already satisfied: six>=1.5 in /usr/local/lib/python3.7/dist-packages (from python-dateutil>=2.7->matplotlib) (1.15.0)\n",
            "Installing collected packages: fonttools, matplotlib\n",
            "  Attempting uninstall: matplotlib\n",
            "    Found existing installation: matplotlib 3.2.2\n",
            "    Uninstalling matplotlib-3.2.2:\n",
            "      Successfully uninstalled matplotlib-3.2.2\n",
            "Successfully installed fonttools-4.38.0 matplotlib-3.5.3\n"
          ]
        },
        {
          "output_type": "display_data",
          "data": {
            "application/vnd.colab-display-data+json": {
              "pip_warning": {
                "packages": [
                  "matplotlib",
                  "mpl_toolkits"
                ]
              }
            }
          },
          "metadata": {}
        }
      ]
    },
    {
      "cell_type": "code",
      "source": [
        "# importy balicku\n",
        "import inspect\n",
        "import numpy as np\n",
        "import pandas as pd\n",
        "import seaborn as sbn\n",
        "import csv\n",
        "import matplotlib as mpt\n",
        "from matplotlib import pyplot as plt\n",
        "\n",
        "\n",
        "def retrieve_name(var):\n",
        "    callers_local_vars = inspect.currentframe().f_back.f_locals.items()\n",
        "    return [var_name for var_name, var_val in callers_local_vars if var_val is var]\n",
        "\n",
        "\n",
        "examplevarr = 4\n",
        "print(examplevarr)\n",
        "print(retrieve_name(examplevarr))"
      ],
      "metadata": {
        "colab": {
          "base_uri": "https://localhost:8080/"
        },
        "id": "Gjwi5d-zV_oH",
        "outputId": "67a62ee7-04d9-4e48-fe8d-4f0de17310bf"
      },
      "execution_count": 2,
      "outputs": [
        {
          "output_type": "stream",
          "name": "stdout",
          "text": [
            "4\n",
            "['examplevarr']\n"
          ]
        }
      ]
    },
    {
      "cell_type": "markdown",
      "source": [
        "## nahrání datasetu\n",
        "dataset snažen z https://r-data.pmagunia.com/dataset/r-dataset-package-mosaicdata-saratogahouses\n",
        "\n",
        "Načten do notebooku pomocí kopie na GitHubu"
      ],
      "metadata": {
        "id": "JQ26Jul3U2C2"
      }
    },
    {
      "cell_type": "code",
      "execution_count": 3,
      "metadata": {
        "id": "bbKW2lvZUCeU",
        "colab": {
          "base_uri": "https://localhost:8080/",
          "height": 423
        },
        "outputId": "243a2535-9ddd-42ea-df76-10a0938edf5f"
      },
      "outputs": [
        {
          "output_type": "execute_result",
          "data": {
            "text/plain": [
              "       price  lotSize  age  landValue  livingArea  pctCollege  bedrooms  \\\n",
              "0     132500     0.09   42      50000         906          35         2   \n",
              "1     181115     0.92    0      22300        1953          51         3   \n",
              "2     109000     0.19  133       7300        1944          51         4   \n",
              "3     155000     0.41   13      18700        1944          51         3   \n",
              "4      86060     0.11    0      15000         840          51         2   \n",
              "...      ...      ...  ...        ...         ...         ...       ...   \n",
              "1723  289000     0.38   32      24200        2310          61         5   \n",
              "1724  285000     0.94   37      36200        2564          61         4   \n",
              "1725  194900     0.39    9      20400        1099          51         2   \n",
              "1726  125000     0.24   48      16800        1225          51         3   \n",
              "1727  111300     0.59   86      26000        1959          51         3   \n",
              "\n",
              "      fireplaces  bathrooms  rooms          heating      fuel  \\\n",
              "0              1        1.0      5         electric  electric   \n",
              "1              0        2.5      6  hot water/steam       gas   \n",
              "2              1        1.0      8  hot water/steam       gas   \n",
              "3              1        1.5      5          hot air       gas   \n",
              "4              0        1.0      3          hot air       gas   \n",
              "...          ...        ...    ...              ...       ...   \n",
              "1723           1        2.5     11  hot water/steam       gas   \n",
              "1724           1        2.5     11  hot water/steam       gas   \n",
              "1725           0        1.0      3          hot air       gas   \n",
              "1726           1        1.0      7          hot air       gas   \n",
              "1727           0        1.0      6          hot air       gas   \n",
              "\n",
              "                  sewer waterfront newConstruction centralAir  \n",
              "0                septic         No              No         No  \n",
              "1                septic         No              No         No  \n",
              "2     public/commercial         No              No         No  \n",
              "3                septic         No              No         No  \n",
              "4     public/commercial         No             Yes        Yes  \n",
              "...                 ...        ...             ...        ...  \n",
              "1723  public/commercial         No              No         No  \n",
              "1724  public/commercial         No              No         No  \n",
              "1725  public/commercial         No              No         No  \n",
              "1726  public/commercial         No              No         No  \n",
              "1727             septic         No              No         No  \n",
              "\n",
              "[1728 rows x 16 columns]"
            ],
            "text/html": [
              "\n",
              "  <div id=\"df-73d62fdf-38cf-42c3-aa8b-9df8ab1c1b5b\">\n",
              "    <div class=\"colab-df-container\">\n",
              "      <div>\n",
              "<style scoped>\n",
              "    .dataframe tbody tr th:only-of-type {\n",
              "        vertical-align: middle;\n",
              "    }\n",
              "\n",
              "    .dataframe tbody tr th {\n",
              "        vertical-align: top;\n",
              "    }\n",
              "\n",
              "    .dataframe thead th {\n",
              "        text-align: right;\n",
              "    }\n",
              "</style>\n",
              "<table border=\"1\" class=\"dataframe\">\n",
              "  <thead>\n",
              "    <tr style=\"text-align: right;\">\n",
              "      <th></th>\n",
              "      <th>price</th>\n",
              "      <th>lotSize</th>\n",
              "      <th>age</th>\n",
              "      <th>landValue</th>\n",
              "      <th>livingArea</th>\n",
              "      <th>pctCollege</th>\n",
              "      <th>bedrooms</th>\n",
              "      <th>fireplaces</th>\n",
              "      <th>bathrooms</th>\n",
              "      <th>rooms</th>\n",
              "      <th>heating</th>\n",
              "      <th>fuel</th>\n",
              "      <th>sewer</th>\n",
              "      <th>waterfront</th>\n",
              "      <th>newConstruction</th>\n",
              "      <th>centralAir</th>\n",
              "    </tr>\n",
              "  </thead>\n",
              "  <tbody>\n",
              "    <tr>\n",
              "      <th>0</th>\n",
              "      <td>132500</td>\n",
              "      <td>0.09</td>\n",
              "      <td>42</td>\n",
              "      <td>50000</td>\n",
              "      <td>906</td>\n",
              "      <td>35</td>\n",
              "      <td>2</td>\n",
              "      <td>1</td>\n",
              "      <td>1.0</td>\n",
              "      <td>5</td>\n",
              "      <td>electric</td>\n",
              "      <td>electric</td>\n",
              "      <td>septic</td>\n",
              "      <td>No</td>\n",
              "      <td>No</td>\n",
              "      <td>No</td>\n",
              "    </tr>\n",
              "    <tr>\n",
              "      <th>1</th>\n",
              "      <td>181115</td>\n",
              "      <td>0.92</td>\n",
              "      <td>0</td>\n",
              "      <td>22300</td>\n",
              "      <td>1953</td>\n",
              "      <td>51</td>\n",
              "      <td>3</td>\n",
              "      <td>0</td>\n",
              "      <td>2.5</td>\n",
              "      <td>6</td>\n",
              "      <td>hot water/steam</td>\n",
              "      <td>gas</td>\n",
              "      <td>septic</td>\n",
              "      <td>No</td>\n",
              "      <td>No</td>\n",
              "      <td>No</td>\n",
              "    </tr>\n",
              "    <tr>\n",
              "      <th>2</th>\n",
              "      <td>109000</td>\n",
              "      <td>0.19</td>\n",
              "      <td>133</td>\n",
              "      <td>7300</td>\n",
              "      <td>1944</td>\n",
              "      <td>51</td>\n",
              "      <td>4</td>\n",
              "      <td>1</td>\n",
              "      <td>1.0</td>\n",
              "      <td>8</td>\n",
              "      <td>hot water/steam</td>\n",
              "      <td>gas</td>\n",
              "      <td>public/commercial</td>\n",
              "      <td>No</td>\n",
              "      <td>No</td>\n",
              "      <td>No</td>\n",
              "    </tr>\n",
              "    <tr>\n",
              "      <th>3</th>\n",
              "      <td>155000</td>\n",
              "      <td>0.41</td>\n",
              "      <td>13</td>\n",
              "      <td>18700</td>\n",
              "      <td>1944</td>\n",
              "      <td>51</td>\n",
              "      <td>3</td>\n",
              "      <td>1</td>\n",
              "      <td>1.5</td>\n",
              "      <td>5</td>\n",
              "      <td>hot air</td>\n",
              "      <td>gas</td>\n",
              "      <td>septic</td>\n",
              "      <td>No</td>\n",
              "      <td>No</td>\n",
              "      <td>No</td>\n",
              "    </tr>\n",
              "    <tr>\n",
              "      <th>4</th>\n",
              "      <td>86060</td>\n",
              "      <td>0.11</td>\n",
              "      <td>0</td>\n",
              "      <td>15000</td>\n",
              "      <td>840</td>\n",
              "      <td>51</td>\n",
              "      <td>2</td>\n",
              "      <td>0</td>\n",
              "      <td>1.0</td>\n",
              "      <td>3</td>\n",
              "      <td>hot air</td>\n",
              "      <td>gas</td>\n",
              "      <td>public/commercial</td>\n",
              "      <td>No</td>\n",
              "      <td>Yes</td>\n",
              "      <td>Yes</td>\n",
              "    </tr>\n",
              "    <tr>\n",
              "      <th>...</th>\n",
              "      <td>...</td>\n",
              "      <td>...</td>\n",
              "      <td>...</td>\n",
              "      <td>...</td>\n",
              "      <td>...</td>\n",
              "      <td>...</td>\n",
              "      <td>...</td>\n",
              "      <td>...</td>\n",
              "      <td>...</td>\n",
              "      <td>...</td>\n",
              "      <td>...</td>\n",
              "      <td>...</td>\n",
              "      <td>...</td>\n",
              "      <td>...</td>\n",
              "      <td>...</td>\n",
              "      <td>...</td>\n",
              "    </tr>\n",
              "    <tr>\n",
              "      <th>1723</th>\n",
              "      <td>289000</td>\n",
              "      <td>0.38</td>\n",
              "      <td>32</td>\n",
              "      <td>24200</td>\n",
              "      <td>2310</td>\n",
              "      <td>61</td>\n",
              "      <td>5</td>\n",
              "      <td>1</td>\n",
              "      <td>2.5</td>\n",
              "      <td>11</td>\n",
              "      <td>hot water/steam</td>\n",
              "      <td>gas</td>\n",
              "      <td>public/commercial</td>\n",
              "      <td>No</td>\n",
              "      <td>No</td>\n",
              "      <td>No</td>\n",
              "    </tr>\n",
              "    <tr>\n",
              "      <th>1724</th>\n",
              "      <td>285000</td>\n",
              "      <td>0.94</td>\n",
              "      <td>37</td>\n",
              "      <td>36200</td>\n",
              "      <td>2564</td>\n",
              "      <td>61</td>\n",
              "      <td>4</td>\n",
              "      <td>1</td>\n",
              "      <td>2.5</td>\n",
              "      <td>11</td>\n",
              "      <td>hot water/steam</td>\n",
              "      <td>gas</td>\n",
              "      <td>public/commercial</td>\n",
              "      <td>No</td>\n",
              "      <td>No</td>\n",
              "      <td>No</td>\n",
              "    </tr>\n",
              "    <tr>\n",
              "      <th>1725</th>\n",
              "      <td>194900</td>\n",
              "      <td>0.39</td>\n",
              "      <td>9</td>\n",
              "      <td>20400</td>\n",
              "      <td>1099</td>\n",
              "      <td>51</td>\n",
              "      <td>2</td>\n",
              "      <td>0</td>\n",
              "      <td>1.0</td>\n",
              "      <td>3</td>\n",
              "      <td>hot air</td>\n",
              "      <td>gas</td>\n",
              "      <td>public/commercial</td>\n",
              "      <td>No</td>\n",
              "      <td>No</td>\n",
              "      <td>No</td>\n",
              "    </tr>\n",
              "    <tr>\n",
              "      <th>1726</th>\n",
              "      <td>125000</td>\n",
              "      <td>0.24</td>\n",
              "      <td>48</td>\n",
              "      <td>16800</td>\n",
              "      <td>1225</td>\n",
              "      <td>51</td>\n",
              "      <td>3</td>\n",
              "      <td>1</td>\n",
              "      <td>1.0</td>\n",
              "      <td>7</td>\n",
              "      <td>hot air</td>\n",
              "      <td>gas</td>\n",
              "      <td>public/commercial</td>\n",
              "      <td>No</td>\n",
              "      <td>No</td>\n",
              "      <td>No</td>\n",
              "    </tr>\n",
              "    <tr>\n",
              "      <th>1727</th>\n",
              "      <td>111300</td>\n",
              "      <td>0.59</td>\n",
              "      <td>86</td>\n",
              "      <td>26000</td>\n",
              "      <td>1959</td>\n",
              "      <td>51</td>\n",
              "      <td>3</td>\n",
              "      <td>0</td>\n",
              "      <td>1.0</td>\n",
              "      <td>6</td>\n",
              "      <td>hot air</td>\n",
              "      <td>gas</td>\n",
              "      <td>septic</td>\n",
              "      <td>No</td>\n",
              "      <td>No</td>\n",
              "      <td>No</td>\n",
              "    </tr>\n",
              "  </tbody>\n",
              "</table>\n",
              "<p>1728 rows × 16 columns</p>\n",
              "</div>\n",
              "      <button class=\"colab-df-convert\" onclick=\"convertToInteractive('df-73d62fdf-38cf-42c3-aa8b-9df8ab1c1b5b')\"\n",
              "              title=\"Convert this dataframe to an interactive table.\"\n",
              "              style=\"display:none;\">\n",
              "        \n",
              "  <svg xmlns=\"http://www.w3.org/2000/svg\" height=\"24px\"viewBox=\"0 0 24 24\"\n",
              "       width=\"24px\">\n",
              "    <path d=\"M0 0h24v24H0V0z\" fill=\"none\"/>\n",
              "    <path d=\"M18.56 5.44l.94 2.06.94-2.06 2.06-.94-2.06-.94-.94-2.06-.94 2.06-2.06.94zm-11 1L8.5 8.5l.94-2.06 2.06-.94-2.06-.94L8.5 2.5l-.94 2.06-2.06.94zm10 10l.94 2.06.94-2.06 2.06-.94-2.06-.94-.94-2.06-.94 2.06-2.06.94z\"/><path d=\"M17.41 7.96l-1.37-1.37c-.4-.4-.92-.59-1.43-.59-.52 0-1.04.2-1.43.59L10.3 9.45l-7.72 7.72c-.78.78-.78 2.05 0 2.83L4 21.41c.39.39.9.59 1.41.59.51 0 1.02-.2 1.41-.59l7.78-7.78 2.81-2.81c.8-.78.8-2.07 0-2.86zM5.41 20L4 18.59l7.72-7.72 1.47 1.35L5.41 20z\"/>\n",
              "  </svg>\n",
              "      </button>\n",
              "      \n",
              "  <style>\n",
              "    .colab-df-container {\n",
              "      display:flex;\n",
              "      flex-wrap:wrap;\n",
              "      gap: 12px;\n",
              "    }\n",
              "\n",
              "    .colab-df-convert {\n",
              "      background-color: #E8F0FE;\n",
              "      border: none;\n",
              "      border-radius: 50%;\n",
              "      cursor: pointer;\n",
              "      display: none;\n",
              "      fill: #1967D2;\n",
              "      height: 32px;\n",
              "      padding: 0 0 0 0;\n",
              "      width: 32px;\n",
              "    }\n",
              "\n",
              "    .colab-df-convert:hover {\n",
              "      background-color: #E2EBFA;\n",
              "      box-shadow: 0px 1px 2px rgba(60, 64, 67, 0.3), 0px 1px 3px 1px rgba(60, 64, 67, 0.15);\n",
              "      fill: #174EA6;\n",
              "    }\n",
              "\n",
              "    [theme=dark] .colab-df-convert {\n",
              "      background-color: #3B4455;\n",
              "      fill: #D2E3FC;\n",
              "    }\n",
              "\n",
              "    [theme=dark] .colab-df-convert:hover {\n",
              "      background-color: #434B5C;\n",
              "      box-shadow: 0px 1px 3px 1px rgba(0, 0, 0, 0.15);\n",
              "      filter: drop-shadow(0px 1px 2px rgba(0, 0, 0, 0.3));\n",
              "      fill: #FFFFFF;\n",
              "    }\n",
              "  </style>\n",
              "\n",
              "      <script>\n",
              "        const buttonEl =\n",
              "          document.querySelector('#df-73d62fdf-38cf-42c3-aa8b-9df8ab1c1b5b button.colab-df-convert');\n",
              "        buttonEl.style.display =\n",
              "          google.colab.kernel.accessAllowed ? 'block' : 'none';\n",
              "\n",
              "        async function convertToInteractive(key) {\n",
              "          const element = document.querySelector('#df-73d62fdf-38cf-42c3-aa8b-9df8ab1c1b5b');\n",
              "          const dataTable =\n",
              "            await google.colab.kernel.invokeFunction('convertToInteractive',\n",
              "                                                     [key], {});\n",
              "          if (!dataTable) return;\n",
              "\n",
              "          const docLinkHtml = 'Like what you see? Visit the ' +\n",
              "            '<a target=\"_blank\" href=https://colab.research.google.com/notebooks/data_table.ipynb>data table notebook</a>'\n",
              "            + ' to learn more about interactive tables.';\n",
              "          element.innerHTML = '';\n",
              "          dataTable['output_type'] = 'display_data';\n",
              "          await google.colab.output.renderOutput(dataTable, element);\n",
              "          const docLink = document.createElement('div');\n",
              "          docLink.innerHTML = docLinkHtml;\n",
              "          element.appendChild(docLink);\n",
              "        }\n",
              "      </script>\n",
              "    </div>\n",
              "  </div>\n",
              "  "
            ]
          },
          "metadata": {},
          "execution_count": 3
        }
      ],
      "source": [
        "# import datasetu (pomoci Pandas)\n",
        "# (puvodne dataset byl stazen z >>  https://r-data.pmagunia.com/dataset/r-dataset-package-mosaicdata-saratogahouses  )\n",
        "url = \"https://raw.githubusercontent.com/aleksejalex/expert-octo-eureka/main/dataset_saratoga_houses_from_R.csv\"\n",
        "data = pd.read_csv(url)\n",
        "\n",
        "data\n",
        "#data.info"
      ]
    },
    {
      "cell_type": "markdown",
      "source": [
        "## popis dat:\n",
        "\n",
        "A data frame with 1728 observations on the following 16 variables.\n",
        "\n",
        "* `price` price (1000s of US dollars)\n",
        "\n",
        "* `lotSize` size of lot (square feet)\n",
        "\n",
        "* `age` age of house (years)\n",
        "\n",
        "* `landValue` value of land (1000s of US dollars)\n",
        "\n",
        "* `livingArea` living are (square feet)\n",
        "\n",
        "* `pctCollege` percent of neighborhood that graduated college\n",
        "\n",
        "* `bedrooms` number of bedrooms\n",
        "\n",
        "* `firplaces` number of fireplaces\n",
        "\n",
        "* `bathrooms` number of bathrooms (half bathrooms have no shower or tub)\n",
        "\n",
        "* `rooms` number of rooms\n",
        "\n",
        "* `heating` type of heating system\n",
        "\n",
        "* `fuel` fuel used for heating\n",
        "\n",
        "* `sewer` type of sewer system\n",
        "\n",
        "* `waterfront` whether property includes waterfront\n",
        "\n",
        "* `newConstruction` whether the property is a new construction\n",
        "\n",
        "* `centralAir` whether the house has central air\n",
        "\n",
        "Převzato z >>>   https://r-data.pmagunia.com/dataset/r-dataset-package-mosaicdata-saratogahouses"
      ],
      "metadata": {
        "id": "eg_8BxIeat28"
      }
    },
    {
      "cell_type": "markdown",
      "source": [
        "## Otázka 01\n",
        "\n",
        "Zjistěte, zdali data neobsahují chybějící hodnoty *NA*. Pokud ano, tak rozhodněte zdali můžete příslušná pozorování z dat odstranit a proč. Které proměnné jsou kvantitativní a které kvalitativní? Jeli možno některé zařadit do obou skupin, pro kterou byste se rozhodli? Které proměnné je možné pužít jako faktorové ordinální a jaké jako faktorové nominální a proč? Spočtěte základní statistiky pro jednotlivé proměnné."
      ],
      "metadata": {
        "id": "-l6vVojVWJTl"
      }
    },
    {
      "cell_type": "code",
      "source": [
        "nan_in_data = data.isnull().sum().sum()\n",
        "\n",
        "print('Number of NaN values in dataframe: ' + str(nan_in_data))\n"
      ],
      "metadata": {
        "colab": {
          "base_uri": "https://localhost:8080/"
        },
        "id": "Ay38sFmkUgDZ",
        "outputId": "6c044694-6c4f-4faa-a21f-4dc29e936d4b"
      },
      "execution_count": 4,
      "outputs": [
        {
          "output_type": "stream",
          "name": "stdout",
          "text": [
            "Number of NaN values in dataframe: 0\n"
          ]
        }
      ]
    },
    {
      "cell_type": "code",
      "source": [
        "# totez lze videt z \n",
        "print(data.info())"
      ],
      "metadata": {
        "colab": {
          "base_uri": "https://localhost:8080/"
        },
        "id": "Jr24NVj1cl-z",
        "outputId": "c49c94cd-d267-488b-d553-ec1ee5a4960e"
      },
      "execution_count": 5,
      "outputs": [
        {
          "output_type": "stream",
          "name": "stdout",
          "text": [
            "<class 'pandas.core.frame.DataFrame'>\n",
            "RangeIndex: 1728 entries, 0 to 1727\n",
            "Data columns (total 16 columns):\n",
            " #   Column           Non-Null Count  Dtype  \n",
            "---  ------           --------------  -----  \n",
            " 0   price            1728 non-null   int64  \n",
            " 1   lotSize          1728 non-null   float64\n",
            " 2   age              1728 non-null   int64  \n",
            " 3   landValue        1728 non-null   int64  \n",
            " 4   livingArea       1728 non-null   int64  \n",
            " 5   pctCollege       1728 non-null   int64  \n",
            " 6   bedrooms         1728 non-null   int64  \n",
            " 7   fireplaces       1728 non-null   int64  \n",
            " 8   bathrooms        1728 non-null   float64\n",
            " 9   rooms            1728 non-null   int64  \n",
            " 10  heating          1728 non-null   object \n",
            " 11  fuel             1728 non-null   object \n",
            " 12  sewer            1728 non-null   object \n",
            " 13  waterfront       1728 non-null   object \n",
            " 14  newConstruction  1728 non-null   object \n",
            " 15  centralAir       1728 non-null   object \n",
            "dtypes: float64(2), int64(8), object(6)\n",
            "memory usage: 216.1+ KB\n",
            "None\n"
          ]
        }
      ]
    },
    {
      "cell_type": "markdown",
      "source": [
        "\n",
        "Kvalitativní proměnné: \\\\\n",
        "`heating` \\\\\n",
        "`fuel` \\\\\n",
        "`sewer` \\\\\n",
        "`waterfront` \\\\\n",
        "`newConstruction` \\\\\n",
        "`centralAir` \\\\\n",
        "\n",
        "Kvantitativní proměnné: \\\\\n",
        "`price` \\\\\n",
        "`lotSize` \\\\\n",
        "`age` \\\\\n",
        "`landValue` \\\\\n",
        "`livingArea` \\\\\n",
        "`pctCollege` \\\\\n",
        "\n",
        "\"Obojetné\" proměnné: \\\\\n",
        "`bedrooms` \\\\\n",
        "`fireplaces` \\\\\n",
        "`bathrooms` \\\\\n",
        "`rooms` \\\\\n",
        "\n",
        "\n",
        "\n",
        "\n",
        "\n",
        "\n"
      ],
      "metadata": {
        "id": "X5lm-Al7ZYLF"
      }
    },
    {
      "cell_type": "markdown",
      "source": [
        "### Základní statistiky"
      ],
      "metadata": {
        "id": "iuzRFo3-cEx-"
      }
    },
    {
      "cell_type": "code",
      "source": [
        "print(data.describe())"
      ],
      "metadata": {
        "colab": {
          "base_uri": "https://localhost:8080/"
        },
        "id": "biFCIqcqZYzC",
        "outputId": "7251107f-818d-4929-f72b-c8be51b848cb"
      },
      "execution_count": 6,
      "outputs": [
        {
          "output_type": "stream",
          "name": "stdout",
          "text": [
            "               price      lotSize          age      landValue   livingArea  \\\n",
            "count    1728.000000  1728.000000  1728.000000    1728.000000  1728.000000   \n",
            "mean   211966.705440     0.500214    27.916088   34557.187500  1754.975694   \n",
            "std     98441.391015     0.698680    29.209988   35021.168056   619.935553   \n",
            "min      5000.000000     0.000000     0.000000     200.000000   616.000000   \n",
            "25%    145000.000000     0.170000    13.000000   15100.000000  1300.000000   \n",
            "50%    189900.000000     0.370000    19.000000   25000.000000  1634.500000   \n",
            "75%    259000.000000     0.540000    34.000000   40200.000000  2137.750000   \n",
            "max    775000.000000    12.200000   225.000000  412600.000000  5228.000000   \n",
            "\n",
            "        pctCollege     bedrooms   fireplaces    bathrooms        rooms  \n",
            "count  1728.000000  1728.000000  1728.000000  1728.000000  1728.000000  \n",
            "mean     55.567708     3.154514     0.601852     1.900174     7.041667  \n",
            "std      10.333581     0.817351     0.556102     0.658352     2.316453  \n",
            "min      20.000000     1.000000     0.000000     0.000000     2.000000  \n",
            "25%      52.000000     3.000000     0.000000     1.500000     5.000000  \n",
            "50%      57.000000     3.000000     1.000000     2.000000     7.000000  \n",
            "75%      64.000000     4.000000     1.000000     2.500000     8.250000  \n",
            "max      82.000000     7.000000     4.000000     4.500000    12.000000  \n"
          ]
        }
      ]
    },
    {
      "cell_type": "markdown",
      "source": [
        "## Otázka 02\n",
        "\n",
        "Chceme koupit nemovitost v zahraničí a průzkumem trhu jsme obdřeli předchozí data set *saratoga_houses*. Jelikož ale máme přesnější požadavky a nerozumíme imperiálním jednotkám, potřebujeme data upravit:\n",
        "\n",
        "* Převeďte cenu nemovitostí z dolarů na koruny v tisících a plochu pozemku a obytnou plochu z akrů a čtverečích stop na $m^2$. (chceck describtion by *? saratoga_houses*) \n",
        "* Vyberte jen nemovitosti starší 10 let a mladší 50 let, jejichž cena je menší než 7500000 Kč, a plocha pozemku je mezi 500 a 5000 $m^2$.\n",
        "* Počet koupelen a počet pokojů převeďte na faktorové proměnné o 3 úrovních."
      ],
      "metadata": {
        "id": "TanH9zDnWSrP"
      }
    },
    {
      "cell_type": "markdown",
      "source": [
        "**Dále pracujte jen s takto omezeným datasetem a s proměnnýma *cena*, *plocha_obytna*, *plocha_pozemku* *pocet_pokoju*,*stari_domu*, *pocet_koupelen*, *krb*.**"
      ],
      "metadata": {
        "id": "mViB1w9zWeYE"
      }
    },
    {
      "cell_type": "code",
      "source": [
        "data_cz = pd.DataFrame()\n",
        "data_cz['cena'] = data.price * 24.96     # kurz k 20221019, ceny byly v tisicich uz v USD\n",
        "data_cz['plocha_pozemku'] = data.lotSize * 0.09290304  # square ft to m2\n",
        "data_cz['plocha_obytna'] = data.livingArea * 0.09290304  # square ft to m2\n",
        "data_cz['pocet_pokoju'] = data.bedrooms\n",
        "data_cz['pocet_pater'] = -1\n",
        "data_cz['sklep'] = -1\n",
        "data_cz['stari_domu'] = data.age\n",
        "data_cz['pocet_koupelen'] = data.bathrooms\n",
        "data_cz['krb'] = data.fireplaces\n",
        "\n",
        "print(data_cz)"
      ],
      "metadata": {
        "colab": {
          "base_uri": "https://localhost:8080/"
        },
        "id": "K-ap0VTfWQEe",
        "outputId": "6f055108-9656-41b8-f9f8-618544cfa5a5"
      },
      "execution_count": 7,
      "outputs": [
        {
          "output_type": "stream",
          "name": "stdout",
          "text": [
            "           cena  plocha_pozemku  plocha_obytna  pocet_pokoju  pocet_pater  \\\n",
            "0     3307200.0        0.008361      84.170154             2           -1   \n",
            "1     4520630.4        0.085471     181.439637             3           -1   \n",
            "2     2720640.0        0.017652     180.603510             4           -1   \n",
            "3     3868800.0        0.038090     180.603510             3           -1   \n",
            "4     2148057.6        0.010219      78.038554             2           -1   \n",
            "...         ...             ...            ...           ...          ...   \n",
            "1723  7213440.0        0.035303     214.606022             5           -1   \n",
            "1724  7113600.0        0.087329     238.203395             4           -1   \n",
            "1725  4864704.0        0.036232     102.100441             2           -1   \n",
            "1726  3120000.0        0.022297     113.806224             3           -1   \n",
            "1727  2778048.0        0.054813     181.997055             3           -1   \n",
            "\n",
            "      sklep  stari_domu  pocet_koupelen  krb  \n",
            "0        -1          42             1.0    1  \n",
            "1        -1           0             2.5    0  \n",
            "2        -1         133             1.0    1  \n",
            "3        -1          13             1.5    1  \n",
            "4        -1           0             1.0    0  \n",
            "...     ...         ...             ...  ...  \n",
            "1723     -1          32             2.5    1  \n",
            "1724     -1          37             2.5    1  \n",
            "1725     -1           9             1.0    0  \n",
            "1726     -1          48             1.0    1  \n",
            "1727     -1          86             1.0    0  \n",
            "\n",
            "[1728 rows x 9 columns]\n"
          ]
        }
      ]
    },
    {
      "cell_type": "code",
      "source": [
        "# prevod poctu koupelen a poctu pokoju na faktorovou promennou\n",
        "\n",
        "# navod:\n",
        "#factorize conf and team columns only\n",
        "#df[['conf', 'team']] = df[['conf', 'team']].apply(lambda x: pd.factorize(x)[0])\n",
        "\n",
        "data_cz_factorization = pd.DataFrame()\n",
        "\n",
        "data_cz_factorization['cena'] = data_cz.cena\n",
        "data_cz_factorization['plocha_pozemku'] = data_cz.plocha_pozemku\n",
        "data_cz_factorization['plocha_obytna'] = data_cz.plocha_obytna\n",
        "data_cz_factorization['stari_domu'] = data_cz.stari_domu\n",
        "data_cz_factorization[['pocet_koupelen', 'pocet_pokoju']] = data_cz[['pocet_koupelen', 'pocet_pokoju']].apply(lambda x: pd.factorize(x)[0])\n",
        "data_cz_factorization['krb'] = data_cz.krb\n",
        "\n",
        "print(data_cz_factorization)"
      ],
      "metadata": {
        "id": "OuKEPV9-TNxF",
        "colab": {
          "base_uri": "https://localhost:8080/"
        },
        "outputId": "8a0be4f6-4415-464e-e7b2-beb3bc4b07db"
      },
      "execution_count": 8,
      "outputs": [
        {
          "output_type": "stream",
          "name": "stdout",
          "text": [
            "           cena  plocha_pozemku  plocha_obytna  stari_domu  pocet_koupelen  \\\n",
            "0     3307200.0        0.008361      84.170154          42               0   \n",
            "1     4520630.4        0.085471     181.439637           0               1   \n",
            "2     2720640.0        0.017652     180.603510         133               0   \n",
            "3     3868800.0        0.038090     180.603510          13               2   \n",
            "4     2148057.6        0.010219      78.038554           0               0   \n",
            "...         ...             ...            ...         ...             ...   \n",
            "1723  7213440.0        0.035303     214.606022          32               1   \n",
            "1724  7113600.0        0.087329     238.203395          37               1   \n",
            "1725  4864704.0        0.036232     102.100441           9               0   \n",
            "1726  3120000.0        0.022297     113.806224          48               0   \n",
            "1727  2778048.0        0.054813     181.997055          86               0   \n",
            "\n",
            "      pocet_pokoju  krb  \n",
            "0                0    1  \n",
            "1                1    0  \n",
            "2                2    1  \n",
            "3                1    1  \n",
            "4                0    0  \n",
            "...            ...  ...  \n",
            "1723             4    1  \n",
            "1724             2    1  \n",
            "1725             0    0  \n",
            "1726             1    1  \n",
            "1727             1    0  \n",
            "\n",
            "[1728 rows x 7 columns]\n"
          ]
        }
      ]
    },
    {
      "cell_type": "code",
      "source": [
        "# jak v Pythonu faktorizovat \"spojite\" veliciny:\n",
        "#   https://benalexkeen.com/bucketing-continuous-variables-in-pandas/\n",
        "\n",
        "pd.cut(data_cz['cena'], 6)\n",
        "faktorizace_podle_poctu_koupelen = pd.cut(data_cz['pocet_pokoju'], 3) \n",
        "data_cz_factorization['pocet_pokoju'] = \n",
        "# df['chi'] = pd.cut(df['chi'], custom_bucket_array)\n"
      ],
      "metadata": {
        "colab": {
          "base_uri": "https://localhost:8080/"
        },
        "id": "QCZHypISrF-U",
        "outputId": "8146d011-e5cf-4c41-8196-039fb8b7a415"
      },
      "execution_count": 31,
      "outputs": [
        {
          "output_type": "execute_result",
          "data": {
            "text/plain": [
              "0       (0.994, 3.0]\n",
              "1       (0.994, 3.0]\n",
              "2         (3.0, 5.0]\n",
              "3       (0.994, 3.0]\n",
              "4       (0.994, 3.0]\n",
              "            ...     \n",
              "1723      (3.0, 5.0]\n",
              "1724      (3.0, 5.0]\n",
              "1725    (0.994, 3.0]\n",
              "1726    (0.994, 3.0]\n",
              "1727    (0.994, 3.0]\n",
              "Name: pocet_pokoju, Length: 1728, dtype: category\n",
              "Categories (3, interval[float64, right]): [(0.994, 3.0] < (3.0, 5.0] < (5.0, 7.0]]"
            ]
          },
          "metadata": {},
          "execution_count": 31
        }
      ]
    },
    {
      "cell_type": "code",
      "source": [
        "np.linspace(1,20000,9000)   # returns np.array starting with 1 ending with 2 and with 900 values in between\n",
        "a = np.linspace(1,20000,9000)\n",
        "b = np.linspace(2,20000,90000)\n",
        "c = np.linspace(3,20000,90000)\n",
        "d = np.linspace(4,20000,90000)\n",
        "f = np.random.normal(0,1,100000000)\n",
        "e = np.random.normal(0,1,100000000)\n",
        "#print(e)\n",
        "plt.hist(e, 100)"
      ],
      "metadata": {
        "colab": {
          "base_uri": "https://localhost:8080/",
          "height": 1000
        },
        "id": "pPknsnhV42Lo",
        "outputId": "b99d0107-936e-4b4d-fa2f-ad36460d3a68"
      },
      "execution_count": 25,
      "outputs": [
        {
          "output_type": "execute_result",
          "data": {
            "text/plain": [
              "(array([1.000000e+00, 2.000000e+00, 6.000000e+00, 5.000000e+00,\n",
              "        1.200000e+01, 2.700000e+01, 5.000000e+01, 9.600000e+01,\n",
              "        1.450000e+02, 2.480000e+02, 4.480000e+02, 7.270000e+02,\n",
              "        1.178000e+03, 1.705000e+03, 2.764000e+03, 4.486000e+03,\n",
              "        6.637000e+03, 9.872000e+03, 1.474300e+04, 2.165300e+04,\n",
              "        3.163300e+04, 4.482600e+04, 6.407700e+04, 8.913200e+04,\n",
              "        1.219800e+05, 1.656380e+05, 2.223380e+05, 2.927560e+05,\n",
              "        3.823730e+05, 4.905700e+05, 6.213500e+05, 7.794100e+05,\n",
              "        9.605440e+05, 1.173018e+06, 1.409848e+06, 1.672487e+06,\n",
              "        1.957454e+06, 2.264024e+06, 2.578018e+06, 2.900705e+06,\n",
              "        3.225177e+06, 3.531830e+06, 3.814920e+06, 4.071582e+06,\n",
              "        4.277710e+06, 4.447463e+06, 4.552580e+06, 4.605109e+06,\n",
              "        4.593001e+06, 4.523261e+06, 4.394645e+06, 4.211992e+06,\n",
              "        3.986291e+06, 3.718674e+06, 3.422422e+06, 3.109814e+06,\n",
              "        2.788407e+06, 2.466872e+06, 2.154527e+06, 1.855571e+06,\n",
              "        1.576417e+06, 1.322654e+06, 1.095068e+06, 8.934100e+05,\n",
              "        7.200080e+05, 5.721220e+05, 4.490860e+05, 3.475010e+05,\n",
              "        2.661100e+05, 2.004360e+05, 1.495190e+05, 1.093120e+05,\n",
              "        7.935900e+04, 5.628800e+04, 3.974000e+04, 2.759900e+04,\n",
              "        1.901500e+04, 1.309400e+04, 8.764000e+03, 5.619000e+03,\n",
              "        3.776000e+03, 2.414000e+03, 1.496000e+03, 9.170000e+02,\n",
              "        6.010000e+02, 3.690000e+02, 1.880000e+02, 1.210000e+02,\n",
              "        6.600000e+01, 3.500000e+01, 2.600000e+01, 1.100000e+01,\n",
              "        1.600000e+01, 4.000000e+00, 3.000000e+00, 0.000000e+00,\n",
              "        1.000000e+00, 0.000000e+00, 0.000000e+00, 1.000000e+00]),\n",
              " array([-5.52857529, -5.41297303, -5.29737078, -5.18176852, -5.06616627,\n",
              "        -4.95056401, -4.83496175, -4.7193595 , -4.60375724, -4.48815499,\n",
              "        -4.37255273, -4.25695048, -4.14134822, -4.02574597, -3.91014371,\n",
              "        -3.79454145, -3.6789392 , -3.56333694, -3.44773469, -3.33213243,\n",
              "        -3.21653018, -3.10092792, -2.98532567, -2.86972341, -2.75412115,\n",
              "        -2.6385189 , -2.52291664, -2.40731439, -2.29171213, -2.17610988,\n",
              "        -2.06050762, -1.94490537, -1.82930311, -1.71370085, -1.5980986 ,\n",
              "        -1.48249634, -1.36689409, -1.25129183, -1.13568958, -1.02008732,\n",
              "        -0.90448507, -0.78888281, -0.67328055, -0.5576783 , -0.44207604,\n",
              "        -0.32647379, -0.21087153, -0.09526928,  0.02033298,  0.13593523,\n",
              "         0.25153749,  0.36713975,  0.482742  ,  0.59834426,  0.71394651,\n",
              "         0.82954877,  0.94515102,  1.06075328,  1.17635554,  1.29195779,\n",
              "         1.40756005,  1.5231623 ,  1.63876456,  1.75436681,  1.86996907,\n",
              "         1.98557132,  2.10117358,  2.21677584,  2.33237809,  2.44798035,\n",
              "         2.5635826 ,  2.67918486,  2.79478711,  2.91038937,  3.02599162,\n",
              "         3.14159388,  3.25719614,  3.37279839,  3.48840065,  3.6040029 ,\n",
              "         3.71960516,  3.83520741,  3.95080967,  4.06641192,  4.18201418,\n",
              "         4.29761644,  4.41321869,  4.52882095,  4.6444232 ,  4.76002546,\n",
              "         4.87562771,  4.99122997,  5.10683222,  5.22243448,  5.33803674,\n",
              "         5.45363899,  5.56924125,  5.6848435 ,  5.80044576,  5.91604801,\n",
              "         6.03165027]),\n",
              " <a list of 100 Patch objects>)"
            ]
          },
          "metadata": {},
          "execution_count": 25
        },
        {
          "output_type": "display_data",
          "data": {
            "text/plain": [
              "<Figure size 432x288 with 1 Axes>"
            ],
            "image/png": "[encoded data removed]"
          },
          "metadata": {
            "needs_background": "light"
          }
        }
      ]
    },
    {
      "cell_type": "code",
      "source": [
        "whos"
      ],
      "metadata": {
        "colab": {
          "base_uri": "https://localhost:8080/"
        },
        "id": "H9X8Ulbw1mVw",
        "outputId": "b7705d52-034a-4c09-ad06-600a8a0b7f5c"
      },
      "execution_count": 23,
      "outputs": [
        {
          "output_type": "stream",
          "name": "stdout",
          "text": [
            "Variable                Type         Data/Info\n",
            "----------------------------------------------\n",
            "a                       ndarray      9000: 9000 elems, type `float64`, 72000 bytes\n",
            "b                       ndarray      90000: 90000 elems, type `float64`, 720000 bytes (703.125 kb)\n",
            "c                       ndarray      90000: 90000 elems, type `float64`, 720000 bytes (703.125 kb)\n",
            "csv                     module       <module 'csv' from '/usr/lib/python3.7/csv.py'>\n",
            "d                       ndarray      90000: 90000 elems, type `float64`, 720000 bytes (703.125 kb)\n",
            "data                    DataFrame           price  lotSize  ag<...>n[1728 rows x 16 columns]\n",
            "data_cz                 DataFrame               cena  plocha_p<...>\\n[1728 rows x 9 columns]\n",
            "data_cz_factorization   DataFrame               cena  plocha_p<...>\\n[1728 rows x 7 columns]\n",
            "e                       ndarray      100000000: 100000000 elems, type `float64`, 800000000 bytes (762.939453125 Mb)\n",
            "examplevarr             int          4\n",
            "inspect                 module       <module 'inspect' from '/<...>ib/python3.7/inspect.py'>\n",
            "mpt                     module       <module 'matplotlib' from<...>/matplotlib/__init__.py'>\n",
            "nan_in_data             int64        0\n",
            "np                      module       <module 'numpy' from '/us<...>kages/numpy/__init__.py'>\n",
            "pd                      module       <module 'pandas' from '/u<...>ages/pandas/__init__.py'>\n",
            "plt                     module       <module 'matplotlib.pyplo<...>es/matplotlib/pyplot.py'>\n",
            "retrieve_name           function     <function retrieve_name at 0x7f5799363170>\n",
            "sbn                     module       <module 'seaborn' from '/<...>ges/seaborn/__init__.py'>\n",
            "url                     str          https://raw.githubusercon<...>aratoga_houses_from_R.csv\n"
          ]
        }
      ]
    },
    {
      "cell_type": "markdown",
      "source": [
        "## Otázka 03 \n",
        "\n",
        "* Porovnejte průměry cen nemovitostí s krbem a bez krbu a otestujte, zdali na hladině významnosti $\\alpha = 0.01$ je průměrná cena nemovitostí s krbem větší než průměrná cena nemovitostí bez krbu."
      ],
      "metadata": {
        "id": "iiqt3hUQWTcJ"
      }
    },
    {
      "cell_type": "code",
      "source": [],
      "metadata": {
        "id": "WkKeQuR5UgZT"
      },
      "execution_count": null,
      "outputs": []
    },
    {
      "cell_type": "markdown",
      "source": [
        "# Vizualizace dat\n",
        "\n",
        "## Otázka 04 \n",
        "\n",
        "* Vykreslete scatterploty pro všechny numerické proměnné, kde bude barevně rozlišeno, zdali se jedná o nemovitost s krbem, nebo bez krbu.\n",
        "*  Pro proměnné *pocet_pokoju* a *pocet_pater* a *sklep* vykreslete krabicové diagramy (nebo violin ploty), kde odezvou bude *cena*.\n",
        "* Pro proměnnou *cena* vykreslete histogram spolu s jádrovým odhadem hustoty.\n"
      ],
      "metadata": {
        "id": "aPwH42nZWX2p"
      }
    },
    {
      "cell_type": "code",
      "source": [
        "plt.figure(figsize=(8,6))\n",
        "plt.plot(np.array([1,2,3]), np.array([1,2,3]),'r*')\n",
        "plt.plot(np.array([2,2,3]), np.array([3,2,1]),'g*')\n",
        "plt.title('test plot')\n",
        "plt.grid()\n",
        "plt.show()"
      ],
      "metadata": {
        "colab": {
          "base_uri": "https://localhost:8080/",
          "height": 390
        },
        "id": "TEnnTEJOL7Ew",
        "outputId": "383f8786-655a-44b0-892e-01c74ee7ea7f"
      },
      "execution_count": 13,
      "outputs": [
        {
          "output_type": "display_data",
          "data": {
            "text/plain": [
              "<Figure size 576x432 with 1 Axes>"
            ],
            "image/png": "[encoded data removed]"
          },
          "metadata": {
            "needs_background": "light"
          }
        }
      ]
    },
    {
      "cell_type": "code",
      "source": [
        "# pomocne: jak cyklit pres nazvy sloupcu v dataframech\n",
        "for column in data_cz:\n",
        "    columnSeriesObj = data_cz[column]\n",
        "    print('Column Name : ', column)\n",
        "    print('Column Contents : ', columnSeriesObj.values)"
      ],
      "metadata": {
        "colab": {
          "base_uri": "https://localhost:8080/"
        },
        "id": "D4eVGE45NWeo",
        "outputId": "a09ee9ec-4d8b-403f-faea-3337ecd56a0f"
      },
      "execution_count": 14,
      "outputs": [
        {
          "output_type": "stream",
          "name": "stdout",
          "text": [
            "Column Name :  cena\n",
            "Column Contents :  [3307200.  4520630.4 2720640.  ... 4864704.  3120000.  2778048. ]\n",
            "Column Name :  plocha_pozemku\n",
            "Column Contents :  [0.00836127 0.0854708  0.01765158 ... 0.03623219 0.02229673 0.05481279]\n",
            "Column Name :  plocha_obytna\n",
            "Column Contents :  [ 84.17015424 181.43963712 180.60350976 ... 102.10044096 113.806224\n",
            " 181.99705536]\n",
            "Column Name :  pocet_pokoju\n",
            "Column Contents :  [2 3 4 ... 2 3 3]\n",
            "Column Name :  pocet_pater\n",
            "Column Contents :  [-1 -1 -1 ... -1 -1 -1]\n",
            "Column Name :  sklep\n",
            "Column Contents :  [-1 -1 -1 ... -1 -1 -1]\n",
            "Column Name :  stari_domu\n",
            "Column Contents :  [ 42   0 133 ...   9  48  86]\n",
            "Column Name :  pocet_koupelen\n",
            "Column Contents :  [1.  2.5 1.  ... 1.  1.  1. ]\n",
            "Column Name :  krb\n",
            "Column Contents :  [1 0 1 ... 0 1 0]\n"
          ]
        }
      ]
    },
    {
      "cell_type": "code",
      "source": [
        "# tj. pro kazdou numerickou promennou jeden scatterplot se dvemi ploty: zelene bez krbu, cervene s krbem\n",
        "\n",
        "plt.figure(figsize=(8,6))\n",
        "data_cz_s_krbem = data_cz[ (data_cz['krb']) == 1 ]   # vsechny info o vsech nemovitostech S KRBEM\n",
        "data_cz_bez_krbu = data_cz[ (data_cz['krb']) == 0 ]   # vsechny info o vsech nemovitostech BEZ KRBU\n",
        "\n",
        "#for column in data_cz:\n",
        "for column in {'cena', 'plocha_pozemku', 'plocha_obytna', 'stari_domu'}: \n",
        "    # nema smysl vykreslovat pro kvalitativni promenne, ale lze (staci pouzit 'for' o radek vyse)\n",
        "    columnSeriesObj = data_cz[column]\n",
        "    print('Column Name : ', column)\n",
        "    num_s_krbem = data_cz_s_krbem.loc[:, column]\n",
        "    num_bez_krbu = data_cz_bez_krbu.loc[:, column]\n",
        "    plt.figure(figsize=(8,6))\n",
        "    plt.plot(num_s_krbem, 'r*')\n",
        "    plt.plot(num_bez_krbu, 'g*')\n",
        "    plt.title(\"Promenna: \" + str(column) + \" - cervene s krbem, zelene bez krbu\")\n",
        "    plt.show()\n",
        "\n",
        "\n"
      ],
      "metadata": {
        "colab": {
          "base_uri": "https://localhost:8080/",
          "height": 1000
        },
        "id": "9pe_nCSIUgrA",
        "outputId": "1e44fd9a-371c-4e35-87e7-a1c8b4090d39"
      },
      "execution_count": 15,
      "outputs": [
        {
          "output_type": "stream",
          "name": "stdout",
          "text": [
            "Column Name :  stari_domu\n"
          ]
        },
        {
          "output_type": "display_data",
          "data": {
            "text/plain": [
              "<Figure size 576x432 with 0 Axes>"
            ]
          },
          "metadata": {}
        },
        {
          "output_type": "display_data",
          "data": {
            "text/plain": [
              "<Figure size 576x432 with 1 Axes>"
            ],
            "image/png": "[encoded data removed]"
          },
          "metadata": {
            "needs_background": "light"
          }
        },
        {
          "output_type": "stream",
          "name": "stdout",
          "text": [
            "Column Name :  plocha_pozemku\n"
          ]
        },
        {
          "output_type": "display_data",
          "data": {
            "text/plain": [
              "<Figure size 576x432 with 1 Axes>"
            ],
            "image/png": "[encoded data removed]"
          },
          "metadata": {
            "needs_background": "light"
          }
        },
        {
          "output_type": "stream",
          "name": "stdout",
          "text": [
            "Column Name :  plocha_obytna\n"
          ]
        },
        {
          "output_type": "display_data",
          "data": {
            "text/plain": [
              "<Figure size 576x432 with 1 Axes>"
            ],
            "image/png": "[encoded data removed]"
          },
          "metadata": {
            "needs_background": "light"
          }
        },
        {
          "output_type": "stream",
          "name": "stdout",
          "text": [
            "Column Name :  cena\n"
          ]
        },
        {
          "output_type": "display_data",
          "data": {
            "text/plain": [
              "<Figure size 576x432 with 1 Axes>"
            ],
            "image/png": "[encoded data removed]"
          },
          "metadata": {
            "needs_background": "light"
          }
        }
      ]
    },
    {
      "cell_type": "markdown",
      "source": [
        "Zvláštní: zdá se, že staré domy spíš krb nemají, než mají."
      ],
      "metadata": {
        "id": "PqHb6Ok8QJuP"
      }
    },
    {
      "cell_type": "markdown",
      "source": [
        "## Otázka 05\n",
        "\n",
        "Pro kombinace faktorizovaných proměnných *pocet_pokoju*, *pocet_koupelen*  vykreslete cenu nemovitosti, aby bylo na obrázku vidět, jestli se v průměru liší ceny nemovitostí majících více pokojů, nebo více koupelen a zdali jsou zastoupeny všechny kombiance všech úrovních pro dvě zmíněné faktorové proměnné."
      ],
      "metadata": {
        "id": "W2df_hDyWYwN"
      }
    },
    {
      "cell_type": "code",
      "source": [],
      "metadata": {
        "id": "tk0c6DvwWQ_J"
      },
      "execution_count": null,
      "outputs": []
    },
    {
      "cell_type": "markdown",
      "metadata": {
        "lines_to_next_cell": 0,
        "id": "37583820"
      },
      "source": [
        "## Otázka 06\n",
        "\n",
        "Pro nemovitosti s dvěma ložnicema vykreslete závislost ceny na obytné ploše nemovitosti, kde jednotlivé události označíte barvou podle toho zdali mají krb a velikost bodů v grafu bude odpovídat počtu koupelen (pro tuto úlohu je lepší vzít počet koupelen jako numerickou proměnnou)."
      ]
    },
    {
      "cell_type": "markdown",
      "source": [
        "**Dále pracujte jen s nemovitostmi se dvěma ložnicemi.**"
      ],
      "metadata": {
        "id": "ebaQtBBORiig"
      }
    },
    {
      "cell_type": "code",
      "source": [],
      "metadata": {
        "id": "6wYZhxODWQ39"
      },
      "execution_count": null,
      "outputs": []
    },
    {
      "cell_type": "markdown",
      "metadata": {
        "id": "51fc7cc4"
      },
      "source": [
        "# Jednoduchý lineární model"
      ]
    },
    {
      "cell_type": "markdown",
      "metadata": {
        "lines_to_next_cell": 0,
        "id": "354a8344"
      },
      "source": [
        "## Otázka 07\n",
        "\n",
        "Sestavte jednoduchý regresní model (s i bez interceptu), kde vysvětlovaná proměnná\n",
        "bude cena nemovitosti a vysvětlující obytná plocha.   Spočtěte pro oba modely $R^2$ a $F$ statistiky, co nám o modelech říkají. Vyberte jeden z nich a zdůvodněte proč ho preferujete.\n",
        "\n",
        "Na základě zvoleného modelu odpovězte, zdali cena nemovitosti závisí na obytné ploše  a pokud ano, o kolik se změní očekávaná cena pro nemovitost s obytnou plochou zvětšenou o $20 m^2$? "
      ]
    },
    {
      "cell_type": "code",
      "source": [],
      "metadata": {
        "id": "WCCPe0uMMaJb"
      },
      "execution_count": null,
      "outputs": []
    },
    {
      "cell_type": "markdown",
      "metadata": {
        "id": "5ac2ca23"
      },
      "source": [
        "## Otázka 08\n",
        "Sestavte jednoduchý linární model jako v předchozí otázce pro nemovitosti s krbem a bez krbu. Jaký model vykazuje silnější linearní vztah mezi cenou a obytnou plochou? O kolik cena s rostoucí obytnou plochou pro nemovitosti s krbem roste rychleji než pro nemovitosti bez krbu?\n",
        "\n",
        "Spočtěte 95% konfidenční intervaly pro regresní koeficienty popisující sklon regresní přímky v obou modelech a zjistěte, zdali se protínají. Co z toho můžeme vyvozovat?\n",
        "\n",
        "Na základě těchto modelů zjistěte o kolik procent bude mít průměrná nemovitost s krbem a obytnou plochou $160m^2$ vyšší očekávanou cenu než průměrná nemovitost o stejné obytné ploše, ale bez krbu."
      ]
    },
    {
      "cell_type": "code",
      "source": [],
      "metadata": {
        "id": "ktbkaD7sX0pz"
      },
      "execution_count": null,
      "outputs": []
    },
    {
      "cell_type": "markdown",
      "metadata": {
        "lines_to_next_cell": 0,
        "id": "11ed78d7"
      },
      "source": [
        "## Otázka 09\n",
        "\n",
        "Vykreslete scatterplot obytné plochy a ceny nemovitostí. Do tohoto grafu vykreslete regresní přímky vybraných modelů pro nemovitosti s krbem a bez něho, jednoltivé body i regresní přímky označte barvou podle toho k jaké skupině přísluší.\n",
        "\n",
        "Sestrojte 90% konfidenční intervaly okolo očekávaných cen pro jednoltivé skupiny a na jejich základě rozhodněte, zdali a jak se očekávané ceny budou lišit pro nemovitosti s obytnou plochou menší než $120m^2$. Je to porovnávání správné? Zdůvoněte."
      ]
    },
    {
      "cell_type": "code",
      "source": [],
      "metadata": {
        "id": "vSrSibdxX0Gp"
      },
      "execution_count": null,
      "outputs": []
    },
    {
      "cell_type": "markdown",
      "metadata": {
        "lines_to_next_cell": 0,
        "id": "bfeecac9"
      },
      "source": [
        "## Otázka 10\n",
        "\n",
        "Vykreslete histogramy pro rezidua modelů z předchozí otázky. Proložte je hustotou normálního rozdělení s nulovou střední hodnotou a rozptylem odpovídajícím $\\hat{\\sigma}^2$ z jednotlivých modelů.\n",
        "\n",
        "Co výsledný graf říka o n našich modelech a je toto ověření dostatečné pro validaci model?\n",
        "\n",
        "Navrněte další úpravy modelu za cílem co nejlépe predikvoat cenu nemovitosti."
      ]
    },
    {
      "cell_type": "code",
      "source": [],
      "metadata": {
        "id": "tuIlMKCtWQ0E"
      },
      "execution_count": null,
      "outputs": []
    },
    {
      "cell_type": "markdown",
      "source": [],
      "metadata": {
        "id": "yGdQmTjyWs7B"
      }
    },
    {
      "cell_type": "code",
      "source": [],
      "metadata": {
        "id": "In-1vUAiWQu0"
      },
      "execution_count": null,
      "outputs": []
    },
    {
      "cell_type": "markdown",
      "source": [],
      "metadata": {
        "id": "XUF4oopuWtYc"
      }
    },
    {
      "cell_type": "code",
      "source": [],
      "metadata": {
        "id": "WnM7ec_YWQlE"
      },
      "execution_count": null,
      "outputs": []
    },
    {
      "cell_type": "markdown",
      "source": [],
      "metadata": {
        "id": "WuYamYPtWtz5"
      }
    },
    {
      "cell_type": "code",
      "source": [],
      "metadata": {
        "id": "IWaAnqcDWuKF"
      },
      "execution_count": null,
      "outputs": []
    },
    {
      "cell_type": "code",
      "source": [],
      "metadata": {
        "id": "87nf7AmdWvCE"
      },
      "execution_count": null,
      "outputs": []
    },
    {
      "cell_type": "code",
      "source": [],
      "metadata": {
        "id": "paeFw0gwWu_C"
      },
      "execution_count": null,
      "outputs": []
    },
    {
      "cell_type": "code",
      "source": [],
      "metadata": {
        "id": "223KZEwgWu8P"
      },
      "execution_count": null,
      "outputs": []
    },
    {
      "cell_type": "code",
      "source": [],
      "metadata": {
        "id": "0ZwPokFkWu5G"
      },
      "execution_count": null,
      "outputs": []
    },
    {
      "cell_type": "code",
      "source": [
        "pltbox = data.boxplot()\n",
        "pltbox.show()"
      ],
      "metadata": {
        "colab": {
          "base_uri": "https://localhost:8080/",
          "height": 190
        },
        "id": "mceSTgD6Wu18",
        "outputId": "3136109e-9580-4158-c7e7-48e296ccf2de"
      },
      "execution_count": null,
      "outputs": [
        {
          "output_type": "error",
          "ename": "NameError",
          "evalue": "ignored",
          "traceback": [
            "\u001b[0;31m---------------------------------------------------------------------------\u001b[0m",
            "\u001b[0;31mNameError\u001b[0m                                 Traceback (most recent call last)",
            "\u001b[0;32m<ipython-input-1-da066e4c1b5c>\u001b[0m in \u001b[0;36m<module>\u001b[0;34m\u001b[0m\n\u001b[0;32m----> 1\u001b[0;31m \u001b[0mpltbox\u001b[0m \u001b[0;34m=\u001b[0m \u001b[0mdata\u001b[0m\u001b[0;34m.\u001b[0m\u001b[0mboxplot\u001b[0m\u001b[0;34m(\u001b[0m\u001b[0;34m)\u001b[0m\u001b[0;34m\u001b[0m\u001b[0;34m\u001b[0m\u001b[0m\n\u001b[0m\u001b[1;32m      2\u001b[0m \u001b[0mpltbox\u001b[0m\u001b[0;34m.\u001b[0m\u001b[0mshow\u001b[0m\u001b[0;34m(\u001b[0m\u001b[0;34m)\u001b[0m\u001b[0;34m\u001b[0m\u001b[0;34m\u001b[0m\u001b[0m\n",
            "\u001b[0;31mNameError\u001b[0m: name 'data' is not defined"
          ]
        }
      ]
    },
    {
      "cell_type": "code",
      "source": [],
      "metadata": {
        "id": "SS3sy_p7Wuxr"
      },
      "execution_count": null,
      "outputs": []
    },
    {
      "cell_type": "code",
      "source": [],
      "metadata": {
        "id": "w6-TrQUjk_Ud"
      },
      "execution_count": null,
      "outputs": []
    },
    {
      "cell_type": "code",
      "source": [],
      "metadata": {
        "id": "eLLGtEbCk_RX"
      },
      "execution_count": null,
      "outputs": []
    },
    {
      "cell_type": "code",
      "source": [
        "workspace = dir()\n",
        "print(workspace)"
      ],
      "metadata": {
        "colab": {
          "base_uri": "https://localhost:8080/"
        },
        "id": "pHgggoPPk_OY",
        "outputId": "cb1b1465-0448-489b-f287-50c017345121"
      },
      "execution_count": 16,
      "outputs": [
        {
          "output_type": "stream",
          "name": "stdout",
          "text": [
            "['In', 'Out', '_', '_4', '_5', '_6', '_8', '__', '___', '__builtin__', '__builtins__', '__doc__', '__loader__', '__name__', '__package__', '__spec__', '_dh', '_i', '_i1', '_i10', '_i11', '_i12', '_i13', '_i14', '_i15', '_i16', '_i2', '_i3', '_i4', '_i5', '_i6', '_i7', '_i8', '_i9', '_ih', '_ii', '_iii', '_oh', 'column', 'columnSeriesObj', 'csv', 'data', 'data_cz', 'data_cz_bez_krbu', 'data_cz_s_krbem', 'examplevarr', 'exit', 'get_ipython', 'inspect', 'mpt', 'nan_in_data', 'np', 'num_bez_krbu', 'num_s_krbem', 'pd', 'plt', 'quit', 'retrieve_name', 'sbn', 'url', 'workspace']\n"
          ]
        }
      ]
    },
    {
      "cell_type": "code",
      "source": [
        "_i"
      ],
      "metadata": {
        "colab": {
          "base_uri": "https://localhost:8080/",
          "height": 36
        },
        "id": "6li_n3bdk_LY",
        "outputId": "79d1db72-0759-4499-a760-a5247408b697"
      },
      "execution_count": 6,
      "outputs": [
        {
          "output_type": "execute_result",
          "data": {
            "text/plain": [
              "'_ii'"
            ],
            "application/vnd.google.colaboratory.intrinsic+json": {
              "type": "string"
            }
          },
          "metadata": {},
          "execution_count": 6
        }
      ]
    },
    {
      "cell_type": "code",
      "source": [
        "who"
      ],
      "metadata": {
        "colab": {
          "base_uri": "https://localhost:8080/"
        },
        "id": "tJZBOoc4k_IX",
        "outputId": "ef603d89-0b7e-44ca-c71d-0ad18f150ac7"
      },
      "execution_count": 17,
      "outputs": [
        {
          "output_type": "stream",
          "name": "stdout",
          "text": [
            "column\t columnSeriesObj\t csv\t data\t data_cz\t data_cz_bez_krbu\t data_cz_s_krbem\t examplevarr\t inspect\t \n",
            "mpt\t nan_in_data\t np\t num_bez_krbu\t num_s_krbem\t pd\t plt\t retrieve_name\t sbn\t \n",
            "url\t workspace\t \n"
          ]
        }
      ]
    },
    {
      "cell_type": "code",
      "source": [
        "whos"
      ],
      "metadata": {
        "colab": {
          "base_uri": "https://localhost:8080/"
        },
        "id": "R_2PIwzqk_FM",
        "outputId": "fed4aa1c-eca6-400c-9004-0510cb8de492"
      },
      "execution_count": 18,
      "outputs": [
        {
          "output_type": "stream",
          "name": "stdout",
          "text": [
            "Variable           Type         Data/Info\n",
            "-----------------------------------------\n",
            "column             str          cena\n",
            "columnSeriesObj    Series       0       3307200.0\\n1     <...>gth: 1728, dtype: float64\n",
            "csv                module       <module 'csv' from '/usr/lib/python3.7/csv.py'>\n",
            "data               DataFrame           price  lotSize  ag<...>n[1728 rows x 16 columns]\n",
            "data_cz            DataFrame               cena  plocha_p<...>\\n[1728 rows x 9 columns]\n",
            "data_cz_bez_krbu   DataFrame               cena  plocha_p<...>n\\n[740 rows x 9 columns]\n",
            "data_cz_s_krbem    DataFrame                 cena  plocha<...>n\\n[942 rows x 9 columns]\n",
            "examplevarr        int          4\n",
            "inspect            module       <module 'inspect' from '/<...>ib/python3.7/inspect.py'>\n",
            "mpt                module       <module 'matplotlib' from<...>/matplotlib/__init__.py'>\n",
            "nan_in_data        int64        0\n",
            "np                 module       <module 'numpy' from '/us<...>kages/numpy/__init__.py'>\n",
            "num_bez_krbu       Series       1       4520630.4\\n4     <...>ngth: 740, dtype: float64\n",
            "num_s_krbem        Series       0        3307200.00\\n2   <...>ngth: 942, dtype: float64\n",
            "pd                 module       <module 'pandas' from '/u<...>ages/pandas/__init__.py'>\n",
            "plt                module       <module 'matplotlib.pyplo<...>es/matplotlib/pyplot.py'>\n",
            "retrieve_name      function     <function retrieve_name at 0x7f116aea4b90>\n",
            "sbn                module       <module 'seaborn' from '/<...>ges/seaborn/__init__.py'>\n",
            "url                str          https://raw.githubusercon<...>aratoga_houses_from_R.csv\n",
            "workspace          list         n=61\n"
          ]
        }
      ]
    },
    {
      "cell_type": "code",
      "source": [],
      "metadata": {
        "id": "kSVH-ASck-_t"
      },
      "execution_count": null,
      "outputs": []
    },
    {
      "cell_type": "code",
      "source": [],
      "metadata": {
        "id": "eXVp9SYzk-3k"
      },
      "execution_count": null,
      "outputs": []
    }
  ]
}